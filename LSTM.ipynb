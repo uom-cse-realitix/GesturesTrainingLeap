{
 "cells": [
  {
   "cell_type": "code",
   "execution_count": 1,
   "metadata": {},
   "outputs": [],
   "source": [
    "import numpy as np\n",
    "import matplotlib.pyplot as plt\n",
    "import pandas\n",
    "import math\n",
    "import tensorflow as tf\n",
    "from tensorflow.keras.models import Sequential\n",
    "from tensorflow.keras.layers import Dense\n",
    "from tensorflow.keras.layers import LSTM\n",
    "from tensorflow.keras.layers import Dropout\n",
    "from sklearn.preprocessing import MinMaxScaler\n",
    "from sklearn.metrics import mean_squared_error"
   ]
  },
  {
   "cell_type": "code",
   "execution_count": 14,
   "metadata": {},
   "outputs": [],
   "source": [
    "from tensorflow.keras.layers import RNN"
   ]
  },
  {
   "cell_type": "code",
   "execution_count": 2,
   "metadata": {},
   "outputs": [
    {
     "data": {
      "text/plain": [
       "((194, 150), (194, 5))"
      ]
     },
     "execution_count": 2,
     "metadata": {},
     "output_type": "execute_result"
    }
   ],
   "source": [
    "data_x = np.loadtxt('gesture_input_x.csv', dtype=float)\n",
    "data_y = np.loadtxt('gesture_input_y.csv', dtype=float)\n",
    "\n",
    "data_x.shape, data_y.shape"
   ]
  },
  {
   "cell_type": "code",
   "execution_count": 3,
   "metadata": {},
   "outputs": [],
   "source": [
    "# fix random seed for reproducibility\n",
    "np.random.seed(7)"
   ]
  },
  {
   "cell_type": "code",
   "execution_count": 4,
   "metadata": {},
   "outputs": [
    {
     "data": {
      "text/plain": [
       "(155, 39)"
      ]
     },
     "execution_count": 4,
     "metadata": {},
     "output_type": "execute_result"
    }
   ],
   "source": [
    "# split into train and test sets\n",
    "train_size = int(len(data_x) * 0.8)\n",
    "test_size = len(data_x) - train_size\n",
    "train_size, test_size"
   ]
  },
  {
   "cell_type": "code",
   "execution_count": 5,
   "metadata": {},
   "outputs": [],
   "source": [
    "train_x, test_x = data_x[0:train_size,:], data_x[train_size:,:]\n",
    "train_y, test_y = data_y[0:train_size,:], data_y[train_size:,:]"
   ]
  },
  {
   "cell_type": "code",
   "execution_count": 6,
   "metadata": {},
   "outputs": [
    {
     "data": {
      "text/plain": [
       "((155, 150), (155, 5), (39, 150), (39, 5))"
      ]
     },
     "execution_count": 6,
     "metadata": {},
     "output_type": "execute_result"
    }
   ],
   "source": [
    "train_x.shape, train_y.shape, test_x.shape, test_y.shape"
   ]
  },
  {
   "cell_type": "code",
   "execution_count": 7,
   "metadata": {},
   "outputs": [],
   "source": [
    "# reshape input to be [samples, time steps, features]\n",
    "train_x = np.reshape(train_x, (train_x.shape[0], 1, train_x.shape[1]))\n",
    "# train_y = np.reshape(train_y, (train_y.shape[0], 1, train_y.shape[1]))\n",
    "\n",
    "test_x = np.reshape(test_x, (test_x.shape[0], 1, test_x.shape[1]))\n",
    "# test_y = np.reshape(test_y, (test_y.shape[0], 1, test_y.shape[1]))\n"
   ]
  },
  {
   "cell_type": "code",
   "execution_count": 24,
   "metadata": {},
   "outputs": [],
   "source": [
    "regularizer = tf.contrib.layers.l2_regularizer(scale=0.01)"
   ]
  },
  {
   "cell_type": "code",
   "execution_count": 28,
   "metadata": {},
   "outputs": [
    {
     "name": "stdout",
     "output_type": "stream",
     "text": [
      "_________________________________________________________________\n",
      "Layer (type)                 Output Shape              Param #   \n",
      "=================================================================\n",
      "lstm_6 (LSTM)                (None, 150)               180600    \n",
      "_________________________________________________________________\n",
      "dense_7 (Dense)              (None, 75)                11325     \n",
      "_________________________________________________________________\n",
      "dense_8 (Dense)              (None, 5)                 380       \n",
      "=================================================================\n",
      "Total params: 192,305\n",
      "Trainable params: 192,305\n",
      "Non-trainable params: 0\n",
      "_________________________________________________________________\n"
     ]
    }
   ],
   "source": [
    "# create and fit the LSTM network\n",
    "model = Sequential()\n",
    "model.add(LSTM(150, activation=tf.nn.tanh, kernel_regularizer=regularizer, input_shape=(1, 150)))\n",
    "model.add(Dense(75, activation=tf.nn.relu))\n",
    "model.add(Dense(5, activation=tf.nn.softmax))\n",
    "\n",
    "model.summary()"
   ]
  },
  {
   "cell_type": "code",
   "execution_count": 29,
   "metadata": {},
   "outputs": [
    {
     "name": "stdout",
     "output_type": "stream",
     "text": [
      "Epoch 1/100\n",
      " - 0s - loss: 1.1143 - acc: 0.1613\n",
      "Epoch 2/100\n",
      " - 0s - loss: 0.6951 - acc: 0.3032\n",
      "Epoch 3/100\n",
      " - 0s - loss: 0.4424 - acc: 0.3548\n",
      "Epoch 4/100\n",
      " - 0s - loss: 0.3021 - acc: 0.4452\n",
      "Epoch 5/100\n",
      " - 0s - loss: 0.2306 - acc: 0.3677\n",
      "Epoch 6/100\n",
      " - 0s - loss: 0.1867 - acc: 0.4452\n",
      "Epoch 7/100\n",
      " - 0s - loss: 0.1630 - acc: 0.4839\n",
      "Epoch 8/100\n",
      " - 0s - loss: 0.1503 - acc: 0.4968\n",
      "Epoch 9/100\n",
      " - 0s - loss: 0.1394 - acc: 0.5871\n",
      "Epoch 10/100\n",
      " - 0s - loss: 0.1412 - acc: 0.4452\n",
      "Epoch 11/100\n",
      " - 0s - loss: 0.1376 - acc: 0.4968\n",
      "Epoch 12/100\n",
      " - 0s - loss: 0.1298 - acc: 0.5871\n",
      "Epoch 13/100\n",
      " - 0s - loss: 0.1312 - acc: 0.5613\n",
      "Epoch 14/100\n",
      " - 0s - loss: 0.1302 - acc: 0.5419\n",
      "Epoch 15/100\n",
      " - 0s - loss: 0.1277 - acc: 0.5613\n",
      "Epoch 16/100\n",
      " - 0s - loss: 0.1196 - acc: 0.6194\n",
      "Epoch 17/100\n",
      " - 0s - loss: 0.1174 - acc: 0.6000\n",
      "Epoch 18/100\n",
      " - 0s - loss: 0.1193 - acc: 0.6000\n",
      "Epoch 19/100\n",
      " - 0s - loss: 0.1166 - acc: 0.6194\n",
      "Epoch 20/100\n",
      " - 0s - loss: 0.1200 - acc: 0.5677\n",
      "Epoch 21/100\n",
      " - 0s - loss: 0.1140 - acc: 0.6323\n",
      "Epoch 22/100\n",
      " - 0s - loss: 0.1129 - acc: 0.6387\n",
      "Epoch 23/100\n",
      " - 0s - loss: 0.1197 - acc: 0.5871\n",
      "Epoch 24/100\n",
      " - 0s - loss: 0.1239 - acc: 0.6258\n",
      "Epoch 25/100\n",
      " - 0s - loss: 0.1167 - acc: 0.5935\n",
      "Epoch 26/100\n",
      " - 0s - loss: 0.1210 - acc: 0.5742\n",
      "Epoch 27/100\n",
      " - 0s - loss: 0.1124 - acc: 0.6581\n",
      "Epoch 28/100\n",
      " - 0s - loss: 0.1065 - acc: 0.6516\n",
      "Epoch 29/100\n",
      " - 0s - loss: 0.1134 - acc: 0.6323\n",
      "Epoch 30/100\n",
      " - 0s - loss: 0.1142 - acc: 0.6065\n",
      "Epoch 31/100\n",
      " - 0s - loss: 0.1101 - acc: 0.6710\n",
      "Epoch 32/100\n",
      " - 0s - loss: 0.1196 - acc: 0.6129\n",
      "Epoch 33/100\n",
      " - 0s - loss: 0.1088 - acc: 0.6258\n",
      "Epoch 34/100\n",
      " - 0s - loss: 0.1112 - acc: 0.6323\n",
      "Epoch 35/100\n",
      " - 0s - loss: 0.1069 - acc: 0.6581\n",
      "Epoch 36/100\n",
      " - 0s - loss: 0.1095 - acc: 0.6516\n",
      "Epoch 37/100\n",
      " - 0s - loss: 0.1051 - acc: 0.6645\n",
      "Epoch 38/100\n",
      " - 0s - loss: 0.1016 - acc: 0.7097\n",
      "Epoch 39/100\n",
      " - 0s - loss: 0.1038 - acc: 0.6710\n",
      "Epoch 40/100\n",
      " - 0s - loss: 0.1056 - acc: 0.6774\n",
      "Epoch 41/100\n",
      " - 0s - loss: 0.1071 - acc: 0.6516\n",
      "Epoch 42/100\n",
      " - 0s - loss: 0.1073 - acc: 0.6839\n",
      "Epoch 43/100\n",
      " - 0s - loss: 0.1049 - acc: 0.6452\n",
      "Epoch 44/100\n",
      " - 0s - loss: 0.1039 - acc: 0.6774\n",
      "Epoch 45/100\n",
      " - 0s - loss: 0.1012 - acc: 0.6839\n",
      "Epoch 46/100\n",
      " - 0s - loss: 0.1093 - acc: 0.6000\n",
      "Epoch 47/100\n",
      " - 0s - loss: 0.1010 - acc: 0.6903\n",
      "Epoch 48/100\n",
      " - 0s - loss: 0.1092 - acc: 0.6387\n",
      "Epoch 49/100\n",
      " - 0s - loss: 0.1112 - acc: 0.6194\n",
      "Epoch 50/100\n",
      " - 0s - loss: 0.0983 - acc: 0.6774\n",
      "Epoch 51/100\n",
      " - 0s - loss: 0.1170 - acc: 0.5677\n",
      "Epoch 52/100\n",
      " - 0s - loss: 0.1064 - acc: 0.6581\n",
      "Epoch 53/100\n",
      " - 0s - loss: 0.1030 - acc: 0.6581\n",
      "Epoch 54/100\n",
      " - 0s - loss: 0.0978 - acc: 0.7226\n",
      "Epoch 55/100\n",
      " - 0s - loss: 0.1011 - acc: 0.6645\n",
      "Epoch 56/100\n",
      " - 0s - loss: 0.0972 - acc: 0.7032\n",
      "Epoch 57/100\n",
      " - 0s - loss: 0.1221 - acc: 0.5677\n",
      "Epoch 58/100\n",
      " - 0s - loss: 0.0981 - acc: 0.7355\n",
      "Epoch 59/100\n",
      " - 0s - loss: 0.1059 - acc: 0.6516\n",
      "Epoch 60/100\n",
      " - 0s - loss: 0.1026 - acc: 0.6516\n",
      "Epoch 61/100\n",
      " - 0s - loss: 0.0985 - acc: 0.6774\n",
      "Epoch 62/100\n",
      " - 0s - loss: 0.1010 - acc: 0.6516\n",
      "Epoch 63/100\n",
      " - 0s - loss: 0.1092 - acc: 0.6452\n",
      "Epoch 64/100\n",
      " - 0s - loss: 0.1013 - acc: 0.6774\n",
      "Epoch 65/100\n",
      " - 0s - loss: 0.1023 - acc: 0.6710\n",
      "Epoch 66/100\n",
      " - 0s - loss: 0.0959 - acc: 0.7097\n",
      "Epoch 67/100\n",
      " - 0s - loss: 0.0933 - acc: 0.6968\n",
      "Epoch 68/100\n",
      " - 0s - loss: 0.0927 - acc: 0.7290\n",
      "Epoch 69/100\n",
      " - 0s - loss: 0.0953 - acc: 0.7097\n",
      "Epoch 70/100\n",
      " - 0s - loss: 0.0995 - acc: 0.6968\n",
      "Epoch 71/100\n",
      " - 0s - loss: 0.1078 - acc: 0.6194\n",
      "Epoch 72/100\n",
      " - 0s - loss: 0.1020 - acc: 0.6710\n",
      "Epoch 73/100\n",
      " - 0s - loss: 0.1005 - acc: 0.6645\n",
      "Epoch 74/100\n",
      " - 0s - loss: 0.0931 - acc: 0.7097\n",
      "Epoch 75/100\n",
      " - 0s - loss: 0.0951 - acc: 0.6968\n",
      "Epoch 76/100\n",
      " - 0s - loss: 0.1038 - acc: 0.6323\n",
      "Epoch 77/100\n",
      " - 0s - loss: 0.0966 - acc: 0.7161\n",
      "Epoch 78/100\n",
      " - 0s - loss: 0.0966 - acc: 0.6968\n",
      "Epoch 79/100\n",
      " - 0s - loss: 0.1047 - acc: 0.6452\n",
      "Epoch 80/100\n",
      " - 0s - loss: 0.0932 - acc: 0.7161\n",
      "Epoch 81/100\n",
      " - 0s - loss: 0.0923 - acc: 0.7161\n",
      "Epoch 82/100\n",
      " - 0s - loss: 0.0959 - acc: 0.6968\n",
      "Epoch 83/100\n",
      " - 0s - loss: 0.0888 - acc: 0.7484\n",
      "Epoch 84/100\n",
      " - 0s - loss: 0.0925 - acc: 0.6903\n",
      "Epoch 85/100\n",
      " - 0s - loss: 0.0926 - acc: 0.6903\n",
      "Epoch 86/100\n",
      " - 0s - loss: 0.0959 - acc: 0.6968\n",
      "Epoch 87/100\n",
      " - 0s - loss: 0.0889 - acc: 0.7548\n",
      "Epoch 88/100\n",
      " - 0s - loss: 0.0922 - acc: 0.6968\n",
      "Epoch 89/100\n",
      " - 0s - loss: 0.0931 - acc: 0.6774\n",
      "Epoch 90/100\n",
      " - 0s - loss: 0.0858 - acc: 0.7484\n",
      "Epoch 91/100\n",
      " - 0s - loss: 0.0912 - acc: 0.7290\n",
      "Epoch 92/100\n",
      " - 0s - loss: 0.0908 - acc: 0.7097\n",
      "Epoch 93/100\n",
      " - 0s - loss: 0.0860 - acc: 0.7548\n",
      "Epoch 94/100\n",
      " - 0s - loss: 0.0996 - acc: 0.6645\n",
      "Epoch 95/100\n",
      " - 0s - loss: 0.0918 - acc: 0.6968\n",
      "Epoch 96/100\n",
      " - 0s - loss: 0.0863 - acc: 0.7419\n",
      "Epoch 97/100\n",
      " - 0s - loss: 0.0919 - acc: 0.7032\n",
      "Epoch 98/100\n",
      " - 0s - loss: 0.0908 - acc: 0.7161\n",
      "Epoch 99/100\n",
      " - 0s - loss: 0.0895 - acc: 0.7355\n",
      "Epoch 100/100\n",
      " - 0s - loss: 0.0864 - acc: 0.7677\n"
     ]
    },
    {
     "data": {
      "text/plain": [
       "<tensorflow.python.keras.callbacks.History at 0x7f0b08be8208>"
      ]
     },
     "execution_count": 29,
     "metadata": {},
     "output_type": "execute_result"
    }
   ],
   "source": [
    "model.compile(loss='mean_squared_error', optimizer='adam', metrics=['accuracy'])\n",
    "model.fit(train_x, train_y, epochs=100, batch_size=10, verbose=2)"
   ]
  },
  {
   "cell_type": "code",
   "execution_count": 30,
   "metadata": {},
   "outputs": [
    {
     "name": "stdout",
     "output_type": "stream",
     "text": [
      "39/39 [==============================] - 0s 4ms/sample - loss: 0.1007 - acc: 0.6923\n"
     ]
    },
    {
     "data": {
      "text/plain": [
       "[0.10071288011012933, 0.6923077]"
      ]
     },
     "execution_count": 30,
     "metadata": {},
     "output_type": "execute_result"
    }
   ],
   "source": [
    "model.evaluate(test_x, test_y)"
   ]
  },
  {
   "cell_type": "code",
   "execution_count": null,
   "metadata": {},
   "outputs": [],
   "source": [
    "model.predict(test_x[1].reshape(1, 1, 150))"
   ]
  },
  {
   "cell_type": "code",
   "execution_count": 31,
   "metadata": {},
   "outputs": [],
   "source": [
    "model.save(\"gesture_lstm.h5\")"
   ]
  }
 ],
 "metadata": {
  "kernelspec": {
   "display_name": "Python 3",
   "language": "python",
   "name": "python3"
  },
  "language_info": {
   "codemirror_mode": {
    "name": "ipython",
    "version": 3
   },
   "file_extension": ".py",
   "mimetype": "text/x-python",
   "name": "python",
   "nbconvert_exporter": "python",
   "pygments_lexer": "ipython3",
   "version": "3.6.8"
  }
 },
 "nbformat": 4,
 "nbformat_minor": 2
}
