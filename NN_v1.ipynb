{
 "cells": [
  {
   "cell_type": "code",
   "execution_count": 1,
   "metadata": {},
   "outputs": [],
   "source": [
    "import numpy as np\n",
    "import matplotlib.pyplot as plt\n",
    "import pandas\n",
    "import math\n",
    "import tensorflow as tf\n",
    "from tensorflow.keras.models import Sequential\n",
    "from tensorflow.keras.layers import Dense\n",
    "from tensorflow.keras.layers import LSTM\n",
    "from tensorflow.keras.layers import Dropout\n",
    "from sklearn.preprocessing import MinMaxScaler\n",
    "from sklearn.metrics import mean_squared_error"
   ]
  },
  {
   "cell_type": "code",
   "execution_count": 2,
   "metadata": {},
   "outputs": [
    {
     "data": {
      "text/plain": [
       "((194, 150), (194, 4))"
      ]
     },
     "execution_count": 2,
     "metadata": {},
     "output_type": "execute_result"
    }
   ],
   "source": [
    "data_x = np.loadtxt('gesture_input_x_v3.csv', dtype=float)\n",
    "data_y = np.loadtxt('gesture_input_y_v3.csv', dtype=float)\n",
    "\n",
    "data_x.shape, data_y.shape"
   ]
  },
  {
   "cell_type": "code",
   "execution_count": 3,
   "metadata": {},
   "outputs": [],
   "source": [
    "# fix random seed for reproducibility\n",
    "np.random.seed(7)"
   ]
  },
  {
   "cell_type": "code",
   "execution_count": 4,
   "metadata": {},
   "outputs": [
    {
     "data": {
      "text/plain": [
       "(116, 38, 40)"
      ]
     },
     "execution_count": 4,
     "metadata": {},
     "output_type": "execute_result"
    }
   ],
   "source": [
    "# split into train and test sets\n",
    "train_size = int(len(data_x) * 0.6)\n",
    "validation_size = int(len(data_x) * 0.2)\n",
    "test_size = len(data_x) - validation_size - train_size\n",
    "train_size, validation_size, test_size"
   ]
  },
  {
   "cell_type": "code",
   "execution_count": 5,
   "metadata": {},
   "outputs": [],
   "source": [
    "train_x, vaildation_x, test_x = data_x[0:train_size,:], data_x[train_size:train_size+validation_size,:], data_x[train_size+validation_size:,:]\n",
    "train_y, vaildation_y, test_y = data_y[0:train_size,:], data_y[train_size:train_size+validation_size,:], data_y[train_size+validation_size:,:]"
   ]
  },
  {
   "cell_type": "code",
   "execution_count": 6,
   "metadata": {},
   "outputs": [
    {
     "data": {
      "text/plain": [
       "((116, 150), (116, 4), (38, 150), (38, 4), (40, 150), (40, 4))"
      ]
     },
     "execution_count": 6,
     "metadata": {},
     "output_type": "execute_result"
    }
   ],
   "source": [
    "train_x.shape, train_y.shape, vaildation_x.shape, vaildation_y.shape, test_x.shape, test_y.shape"
   ]
  },
  {
   "cell_type": "code",
   "execution_count": 7,
   "metadata": {},
   "outputs": [],
   "source": [
    "# reshape input to be [samples, time steps, features]\n",
    "train_x = np.reshape(train_x, (train_x.shape[0], 1, train_x.shape[1]))\n",
    "vaildation_x = np.reshape(vaildation_x, (vaildation_x.shape[0], 1, vaildation_x.shape[1]))\n",
    "test_x = np.reshape(test_x, (test_x.shape[0], 1, test_x.shape[1]))"
   ]
  },
  {
   "cell_type": "code",
   "execution_count": 17,
   "metadata": {},
   "outputs": [],
   "source": [
    "regularizer = tf.contrib.layers.l2_regularizer(scale=0.001)"
   ]
  },
  {
   "cell_type": "code",
   "execution_count": 18,
   "metadata": {},
   "outputs": [
    {
     "name": "stdout",
     "output_type": "stream",
     "text": [
      "_________________________________________________________________\n",
      "Layer (type)                 Output Shape              Param #   \n",
      "=================================================================\n",
      "lstm_2 (LSTM)                (None, 150)               180600    \n",
      "_________________________________________________________________\n",
      "dense_5 (Dense)              (None, 100)               15100     \n",
      "_________________________________________________________________\n",
      "dense_6 (Dense)              (None, 50)                5050      \n",
      "_________________________________________________________________\n",
      "dense_7 (Dense)              (None, 4)                 204       \n",
      "=================================================================\n",
      "Total params: 200,954\n",
      "Trainable params: 200,954\n",
      "Non-trainable params: 0\n",
      "_________________________________________________________________\n"
     ]
    }
   ],
   "source": [
    "# create and fit the LSTM network\n",
    "model = Sequential()\n",
    "model.add(LSTM(150, activation=tf.nn.tanh, kernel_regularizer=regularizer, input_shape=(1, 150)))\n",
    "model.add(Dense(100, activation=tf.nn.relu, kernel_regularizer=regularizer))\n",
    "model.add(Dense(50, activation=tf.nn.relu, kernel_regularizer=regularizer))\n",
    "model.add(Dense(4, activation=tf.nn.softmax))\n",
    "\n",
    "model.summary()"
   ]
  },
  {
   "cell_type": "code",
   "execution_count": 19,
   "metadata": {},
   "outputs": [
    {
     "name": "stdout",
     "output_type": "stream",
     "text": [
      "Train on 116 samples, validate on 38 samples\n",
      "Epoch 1/100\n",
      "116/116 [==============================] - 1s 10ms/sample - loss: 0.3529 - acc: 0.3017 - val_loss: 0.3465 - val_acc: 0.3158\n",
      "Epoch 2/100\n",
      "116/116 [==============================] - 0s 738us/sample - loss: 0.3096 - acc: 0.3966 - val_loss: 0.3059 - val_acc: 0.4474\n",
      "Epoch 3/100\n",
      "116/116 [==============================] - 0s 714us/sample - loss: 0.2706 - acc: 0.4397 - val_loss: 0.2697 - val_acc: 0.5526\n",
      "Epoch 4/100\n",
      "116/116 [==============================] - 0s 686us/sample - loss: 0.2408 - acc: 0.5086 - val_loss: 0.2450 - val_acc: 0.5263\n",
      "Epoch 5/100\n",
      "116/116 [==============================] - 0s 658us/sample - loss: 0.2240 - acc: 0.4655 - val_loss: 0.2329 - val_acc: 0.5263\n",
      "Epoch 6/100\n",
      "116/116 [==============================] - 0s 727us/sample - loss: 0.2016 - acc: 0.4914 - val_loss: 0.2166 - val_acc: 0.5000\n",
      "Epoch 7/100\n",
      "116/116 [==============================] - 0s 608us/sample - loss: 0.1845 - acc: 0.5345 - val_loss: 0.2063 - val_acc: 0.5526\n",
      "Epoch 8/100\n",
      "116/116 [==============================] - 0s 627us/sample - loss: 0.1751 - acc: 0.5517 - val_loss: 0.2021 - val_acc: 0.5789\n",
      "Epoch 9/100\n",
      "116/116 [==============================] - 0s 779us/sample - loss: 0.1683 - acc: 0.5690 - val_loss: 0.1939 - val_acc: 0.5263\n",
      "Epoch 10/100\n",
      "116/116 [==============================] - 0s 817us/sample - loss: 0.1670 - acc: 0.5345 - val_loss: 0.1903 - val_acc: 0.5789\n",
      "Epoch 11/100\n",
      "116/116 [==============================] - 0s 846us/sample - loss: 0.1700 - acc: 0.5172 - val_loss: 0.1931 - val_acc: 0.5789\n",
      "Epoch 12/100\n",
      "116/116 [==============================] - 0s 859us/sample - loss: 0.1525 - acc: 0.5776 - val_loss: 0.1800 - val_acc: 0.5263\n",
      "Epoch 13/100\n",
      "116/116 [==============================] - 0s 828us/sample - loss: 0.1440 - acc: 0.6034 - val_loss: 0.1768 - val_acc: 0.6053\n",
      "Epoch 14/100\n",
      "116/116 [==============================] - 0s 840us/sample - loss: 0.1444 - acc: 0.5862 - val_loss: 0.1689 - val_acc: 0.6316\n",
      "Epoch 15/100\n",
      "116/116 [==============================] - 0s 933us/sample - loss: 0.1389 - acc: 0.6121 - val_loss: 0.1858 - val_acc: 0.5000\n",
      "Epoch 16/100\n",
      "116/116 [==============================] - 0s 929us/sample - loss: 0.1441 - acc: 0.5345 - val_loss: 0.1572 - val_acc: 0.6842\n",
      "Epoch 17/100\n",
      "116/116 [==============================] - 0s 841us/sample - loss: 0.1342 - acc: 0.5862 - val_loss: 0.1626 - val_acc: 0.6316\n",
      "Epoch 18/100\n",
      "116/116 [==============================] - 0s 800us/sample - loss: 0.1344 - acc: 0.6207 - val_loss: 0.1557 - val_acc: 0.5789\n",
      "Epoch 19/100\n",
      "116/116 [==============================] - 0s 772us/sample - loss: 0.1319 - acc: 0.5948 - val_loss: 0.1603 - val_acc: 0.5526\n",
      "Epoch 20/100\n",
      "116/116 [==============================] - 0s 886us/sample - loss: 0.1330 - acc: 0.5776 - val_loss: 0.1506 - val_acc: 0.6316\n",
      "Epoch 21/100\n",
      "116/116 [==============================] - 0s 862us/sample - loss: 0.1284 - acc: 0.5948 - val_loss: 0.1473 - val_acc: 0.6316\n",
      "Epoch 22/100\n",
      "116/116 [==============================] - 0s 751us/sample - loss: 0.1228 - acc: 0.5948 - val_loss: 0.1526 - val_acc: 0.6316\n",
      "Epoch 23/100\n",
      "116/116 [==============================] - 0s 844us/sample - loss: 0.1212 - acc: 0.6034 - val_loss: 0.1493 - val_acc: 0.6316\n",
      "Epoch 24/100\n",
      "116/116 [==============================] - 0s 812us/sample - loss: 0.1174 - acc: 0.6207 - val_loss: 0.1447 - val_acc: 0.6842\n",
      "Epoch 25/100\n",
      "116/116 [==============================] - 0s 816us/sample - loss: 0.1180 - acc: 0.6293 - val_loss: 0.1440 - val_acc: 0.6053\n",
      "Epoch 26/100\n",
      "116/116 [==============================] - 0s 906us/sample - loss: 0.1172 - acc: 0.6121 - val_loss: 0.1520 - val_acc: 0.6053\n",
      "Epoch 27/100\n",
      "116/116 [==============================] - 0s 846us/sample - loss: 0.1139 - acc: 0.6293 - val_loss: 0.1398 - val_acc: 0.6579\n",
      "Epoch 28/100\n",
      "116/116 [==============================] - 0s 812us/sample - loss: 0.1108 - acc: 0.6379 - val_loss: 0.1334 - val_acc: 0.6842\n",
      "Epoch 29/100\n",
      "116/116 [==============================] - 0s 1ms/sample - loss: 0.1118 - acc: 0.6293 - val_loss: 0.1336 - val_acc: 0.6842\n",
      "Epoch 30/100\n",
      "116/116 [==============================] - 0s 915us/sample - loss: 0.1136 - acc: 0.6293 - val_loss: 0.1412 - val_acc: 0.5526\n",
      "Epoch 31/100\n",
      "116/116 [==============================] - 0s 876us/sample - loss: 0.1105 - acc: 0.6379 - val_loss: 0.1387 - val_acc: 0.6842\n",
      "Epoch 32/100\n",
      "116/116 [==============================] - 0s 830us/sample - loss: 0.1077 - acc: 0.6379 - val_loss: 0.1342 - val_acc: 0.6842\n",
      "Epoch 33/100\n",
      "116/116 [==============================] - 0s 885us/sample - loss: 0.1083 - acc: 0.6293 - val_loss: 0.1378 - val_acc: 0.5789\n",
      "Epoch 34/100\n",
      "116/116 [==============================] - 0s 854us/sample - loss: 0.1097 - acc: 0.6207 - val_loss: 0.1320 - val_acc: 0.6842\n",
      "Epoch 35/100\n",
      "116/116 [==============================] - 0s 781us/sample - loss: 0.1103 - acc: 0.6207 - val_loss: 0.1398 - val_acc: 0.6316\n",
      "Epoch 36/100\n",
      "116/116 [==============================] - 0s 791us/sample - loss: 0.1053 - acc: 0.6379 - val_loss: 0.1429 - val_acc: 0.6579\n",
      "Epoch 37/100\n",
      "116/116 [==============================] - 0s 719us/sample - loss: 0.1124 - acc: 0.6207 - val_loss: 0.1315 - val_acc: 0.6579\n",
      "Epoch 38/100\n",
      "116/116 [==============================] - 0s 730us/sample - loss: 0.1097 - acc: 0.6121 - val_loss: 0.1269 - val_acc: 0.7368\n",
      "Epoch 39/100\n",
      "116/116 [==============================] - 0s 723us/sample - loss: 0.1096 - acc: 0.6207 - val_loss: 0.1275 - val_acc: 0.6842\n",
      "Epoch 40/100\n",
      "116/116 [==============================] - 0s 678us/sample - loss: 0.1137 - acc: 0.6034 - val_loss: 0.1325 - val_acc: 0.6053\n",
      "Epoch 41/100\n",
      "116/116 [==============================] - 0s 703us/sample - loss: 0.1157 - acc: 0.6207 - val_loss: 0.1341 - val_acc: 0.6579\n",
      "Epoch 42/100\n",
      "116/116 [==============================] - 0s 706us/sample - loss: 0.1104 - acc: 0.6121 - val_loss: 0.1217 - val_acc: 0.7105\n",
      "Epoch 43/100\n",
      "116/116 [==============================] - 0s 793us/sample - loss: 0.1030 - acc: 0.6638 - val_loss: 0.1461 - val_acc: 0.6579\n",
      "Epoch 44/100\n",
      "116/116 [==============================] - 0s 796us/sample - loss: 0.1063 - acc: 0.6466 - val_loss: 0.1268 - val_acc: 0.6842\n",
      "Epoch 45/100\n",
      "116/116 [==============================] - 0s 728us/sample - loss: 0.1000 - acc: 0.6724 - val_loss: 0.1216 - val_acc: 0.6842\n",
      "Epoch 46/100\n",
      "116/116 [==============================] - 0s 699us/sample - loss: 0.1016 - acc: 0.6466 - val_loss: 0.1165 - val_acc: 0.7632\n",
      "Epoch 47/100\n",
      "116/116 [==============================] - 0s 804us/sample - loss: 0.1144 - acc: 0.5862 - val_loss: 0.1221 - val_acc: 0.6842\n",
      "Epoch 48/100\n",
      "116/116 [==============================] - 0s 839us/sample - loss: 0.1014 - acc: 0.6638 - val_loss: 0.1262 - val_acc: 0.6316\n",
      "Epoch 49/100\n",
      "116/116 [==============================] - 0s 777us/sample - loss: 0.1033 - acc: 0.6466 - val_loss: 0.1277 - val_acc: 0.6842\n",
      "Epoch 50/100\n",
      "116/116 [==============================] - 0s 803us/sample - loss: 0.1054 - acc: 0.6638 - val_loss: 0.1643 - val_acc: 0.5789\n",
      "Epoch 51/100\n",
      "116/116 [==============================] - 0s 778us/sample - loss: 0.1115 - acc: 0.5862 - val_loss: 0.1247 - val_acc: 0.7105\n",
      "Epoch 52/100\n",
      "116/116 [==============================] - 0s 756us/sample - loss: 0.1063 - acc: 0.6293 - val_loss: 0.1175 - val_acc: 0.6842\n",
      "Epoch 53/100\n",
      "116/116 [==============================] - 0s 882us/sample - loss: 0.1023 - acc: 0.6466 - val_loss: 0.1320 - val_acc: 0.6842\n",
      "Epoch 54/100\n",
      "116/116 [==============================] - 0s 792us/sample - loss: 0.1010 - acc: 0.6466 - val_loss: 0.1267 - val_acc: 0.6316\n",
      "Epoch 55/100\n",
      "116/116 [==============================] - 0s 841us/sample - loss: 0.1027 - acc: 0.6121 - val_loss: 0.1212 - val_acc: 0.7105\n",
      "Epoch 56/100\n",
      "116/116 [==============================] - 0s 868us/sample - loss: 0.0943 - acc: 0.6983 - val_loss: 0.1341 - val_acc: 0.6842\n",
      "Epoch 57/100\n",
      "116/116 [==============================] - 0s 795us/sample - loss: 0.0965 - acc: 0.6810 - val_loss: 0.1143 - val_acc: 0.7105\n",
      "Epoch 58/100\n",
      "116/116 [==============================] - 0s 772us/sample - loss: 0.0921 - acc: 0.6724 - val_loss: 0.1247 - val_acc: 0.7105\n",
      "Epoch 59/100\n",
      "116/116 [==============================] - 0s 785us/sample - loss: 0.0934 - acc: 0.6466 - val_loss: 0.1126 - val_acc: 0.7105\n",
      "Epoch 60/100\n"
     ]
    },
    {
     "name": "stdout",
     "output_type": "stream",
     "text": [
      "116/116 [==============================] - 0s 887us/sample - loss: 0.0920 - acc: 0.6897 - val_loss: 0.1166 - val_acc: 0.7105\n",
      "Epoch 61/100\n",
      "116/116 [==============================] - 0s 720us/sample - loss: 0.0914 - acc: 0.6638 - val_loss: 0.1073 - val_acc: 0.7105\n",
      "Epoch 62/100\n",
      "116/116 [==============================] - 0s 649us/sample - loss: 0.0944 - acc: 0.6724 - val_loss: 0.1296 - val_acc: 0.7105\n",
      "Epoch 63/100\n",
      "116/116 [==============================] - 0s 665us/sample - loss: 0.0999 - acc: 0.6207 - val_loss: 0.1243 - val_acc: 0.7105\n",
      "Epoch 64/100\n",
      "116/116 [==============================] - 0s 694us/sample - loss: 0.0944 - acc: 0.6638 - val_loss: 0.1179 - val_acc: 0.7105\n",
      "Epoch 65/100\n",
      "116/116 [==============================] - 0s 650us/sample - loss: 0.0948 - acc: 0.6724 - val_loss: 0.1098 - val_acc: 0.7105\n",
      "Epoch 66/100\n",
      "116/116 [==============================] - 0s 699us/sample - loss: 0.0944 - acc: 0.6552 - val_loss: 0.1269 - val_acc: 0.7105\n",
      "Epoch 67/100\n",
      "116/116 [==============================] - 0s 635us/sample - loss: 0.0879 - acc: 0.6983 - val_loss: 0.1125 - val_acc: 0.7105\n",
      "Epoch 68/100\n",
      "116/116 [==============================] - 0s 685us/sample - loss: 0.0883 - acc: 0.6897 - val_loss: 0.1247 - val_acc: 0.7105\n",
      "Epoch 69/100\n",
      "116/116 [==============================] - 0s 653us/sample - loss: 0.0957 - acc: 0.6466 - val_loss: 0.1202 - val_acc: 0.6316\n",
      "Epoch 70/100\n",
      "116/116 [==============================] - 0s 672us/sample - loss: 0.0929 - acc: 0.6638 - val_loss: 0.1066 - val_acc: 0.7368\n",
      "Epoch 71/100\n",
      "116/116 [==============================] - 0s 782us/sample - loss: 0.0990 - acc: 0.6466 - val_loss: 0.1141 - val_acc: 0.6842\n",
      "Epoch 72/100\n",
      "116/116 [==============================] - 0s 780us/sample - loss: 0.0896 - acc: 0.6983 - val_loss: 0.1113 - val_acc: 0.7105\n",
      "Epoch 73/100\n",
      "116/116 [==============================] - 0s 737us/sample - loss: 0.0942 - acc: 0.6552 - val_loss: 0.1032 - val_acc: 0.7895\n",
      "Epoch 74/100\n",
      "116/116 [==============================] - 0s 729us/sample - loss: 0.0981 - acc: 0.6466 - val_loss: 0.1340 - val_acc: 0.6579\n",
      "Epoch 75/100\n",
      "116/116 [==============================] - 0s 748us/sample - loss: 0.1101 - acc: 0.5862 - val_loss: 0.1415 - val_acc: 0.6053\n",
      "Epoch 76/100\n",
      "116/116 [==============================] - 0s 628us/sample - loss: 0.1067 - acc: 0.6379 - val_loss: 0.1219 - val_acc: 0.7105\n",
      "Epoch 77/100\n",
      "116/116 [==============================] - 0s 811us/sample - loss: 0.0890 - acc: 0.6810 - val_loss: 0.1086 - val_acc: 0.7105\n",
      "Epoch 78/100\n",
      "116/116 [==============================] - 0s 769us/sample - loss: 0.0968 - acc: 0.6466 - val_loss: 0.1237 - val_acc: 0.6842\n",
      "Epoch 79/100\n",
      "116/116 [==============================] - 0s 795us/sample - loss: 0.0937 - acc: 0.6466 - val_loss: 0.1312 - val_acc: 0.7105\n",
      "Epoch 80/100\n",
      "116/116 [==============================] - 0s 719us/sample - loss: 0.0917 - acc: 0.6638 - val_loss: 0.1084 - val_acc: 0.7368\n",
      "Epoch 81/100\n",
      "116/116 [==============================] - 0s 661us/sample - loss: 0.0870 - acc: 0.6638 - val_loss: 0.1101 - val_acc: 0.7632\n",
      "Epoch 82/100\n",
      "116/116 [==============================] - 0s 796us/sample - loss: 0.0880 - acc: 0.6897 - val_loss: 0.1081 - val_acc: 0.7368\n",
      "Epoch 83/100\n",
      "116/116 [==============================] - 0s 681us/sample - loss: 0.0892 - acc: 0.6897 - val_loss: 0.1259 - val_acc: 0.6579\n",
      "Epoch 84/100\n",
      "116/116 [==============================] - 0s 825us/sample - loss: 0.0903 - acc: 0.6552 - val_loss: 0.1082 - val_acc: 0.7368\n",
      "Epoch 85/100\n",
      "116/116 [==============================] - 0s 649us/sample - loss: 0.0913 - acc: 0.6552 - val_loss: 0.1037 - val_acc: 0.7368\n",
      "Epoch 86/100\n",
      "116/116 [==============================] - 0s 685us/sample - loss: 0.0848 - acc: 0.6983 - val_loss: 0.1053 - val_acc: 0.7632\n",
      "Epoch 87/100\n",
      "116/116 [==============================] - 0s 727us/sample - loss: 0.0819 - acc: 0.7069 - val_loss: 0.1063 - val_acc: 0.7368\n",
      "Epoch 88/100\n",
      "116/116 [==============================] - 0s 650us/sample - loss: 0.0823 - acc: 0.7328 - val_loss: 0.1176 - val_acc: 0.6316\n",
      "Epoch 89/100\n",
      "116/116 [==============================] - 0s 712us/sample - loss: 0.0829 - acc: 0.7069 - val_loss: 0.1051 - val_acc: 0.7368\n",
      "Epoch 90/100\n",
      "116/116 [==============================] - 0s 723us/sample - loss: 0.0812 - acc: 0.7241 - val_loss: 0.1021 - val_acc: 0.7368\n",
      "Epoch 91/100\n",
      "116/116 [==============================] - 0s 773us/sample - loss: 0.0801 - acc: 0.7069 - val_loss: 0.1031 - val_acc: 0.7368\n",
      "Epoch 92/100\n",
      "116/116 [==============================] - 0s 735us/sample - loss: 0.0794 - acc: 0.7155 - val_loss: 0.1041 - val_acc: 0.7368\n",
      "Epoch 93/100\n",
      "116/116 [==============================] - 0s 780us/sample - loss: 0.0807 - acc: 0.7069 - val_loss: 0.1051 - val_acc: 0.7368\n",
      "Epoch 94/100\n",
      "116/116 [==============================] - 0s 799us/sample - loss: 0.0818 - acc: 0.7069 - val_loss: 0.0965 - val_acc: 0.7632\n",
      "Epoch 95/100\n",
      "116/116 [==============================] - 0s 757us/sample - loss: 0.0799 - acc: 0.7241 - val_loss: 0.1069 - val_acc: 0.7105\n",
      "Epoch 96/100\n",
      "116/116 [==============================] - 0s 707us/sample - loss: 0.0813 - acc: 0.7069 - val_loss: 0.1028 - val_acc: 0.7368\n",
      "Epoch 97/100\n",
      "116/116 [==============================] - 0s 838us/sample - loss: 0.0809 - acc: 0.7328 - val_loss: 0.1083 - val_acc: 0.7105\n",
      "Epoch 98/100\n",
      "116/116 [==============================] - 0s 864us/sample - loss: 0.0852 - acc: 0.6810 - val_loss: 0.1033 - val_acc: 0.7632\n",
      "Epoch 99/100\n",
      "116/116 [==============================] - 0s 768us/sample - loss: 0.0826 - acc: 0.6897 - val_loss: 0.1271 - val_acc: 0.6053\n",
      "Epoch 100/100\n",
      "116/116 [==============================] - 0s 802us/sample - loss: 0.0847 - acc: 0.7069 - val_loss: 0.1118 - val_acc: 0.7368\n"
     ]
    },
    {
     "data": {
      "text/plain": [
       "<tensorflow.python.keras.callbacks.History at 0x7f1a726b1748>"
      ]
     },
     "execution_count": 19,
     "metadata": {},
     "output_type": "execute_result"
    }
   ],
   "source": [
    "model.compile(loss='mean_squared_error', optimizer='adam', metrics=['accuracy'])\n",
    "model.fit(train_x, train_y, epochs=100, batch_size=10, validation_data=(vaildation_x, vaildation_y), verbose=1)\n"
   ]
  },
  {
   "cell_type": "code",
   "execution_count": null,
   "metadata": {},
   "outputs": [],
   "source": [
    "# model.evaluate(test_x, test_y)"
   ]
  },
  {
   "cell_type": "code",
   "execution_count": 23,
   "metadata": {},
   "outputs": [],
   "source": [
    "prediction = model.predict(test_x.reshape(test_x.shape[0], 1, 150))"
   ]
  },
  {
   "cell_type": "code",
   "execution_count": 36,
   "metadata": {},
   "outputs": [
    {
     "name": "stdout",
     "output_type": "stream",
     "text": [
      "[False False False  True] 3\n",
      "[False False False  True] 3\n",
      "[ True False False False] 0\n",
      "[ True False False False] 0\n",
      "[False  True False False] 1\n",
      "[False False False False] None\n",
      "[False False False  True] 3\n",
      "[False  True False False] 1\n",
      "[False False  True False] 2\n",
      "[False False False False] None\n",
      "[False False False False] None\n",
      "[False False False False] None\n",
      "[ True False False False] 0\n",
      "[False False False  True] 3\n",
      "[False False False  True] 3\n",
      "[ True False False False] 0\n",
      "[False  True False False] 1\n",
      "[False False  True False] 2\n",
      "[False False False  True] 3\n",
      "[False  True False False] 1\n",
      "[ True False False False] 0\n",
      "[False False False  True] 3\n",
      "[ True False False False] 0\n",
      "[False False False  True] 3\n",
      "[ True False False False] 0\n",
      "[False  True False False] 1\n",
      "[ True False False False] 0\n",
      "[False False False  True] 3\n",
      "[ True False False False] 0\n",
      "[ True False False False] 0\n",
      "[False False False  True] 3\n",
      "[ True False False False] 0\n",
      "[False  True False False] 1\n",
      "[False False False  True] 3\n",
      "[False False False  True] 3\n",
      "[ True False False False] 0\n",
      "[ True False False False] 0\n",
      "[ True False False False] 0\n",
      "[False  True False False] 1\n",
      "[False  True False False] 1\n"
     ]
    }
   ],
   "source": [
    "t = [np.greater(i, 0.5) for i in prediction]\n",
    "for i in t:\n",
    "    gesture = np.where(i)\n",
    "    print(i, \"None\" if len(gesture[0]) == 0 else gesture[0][0])"
   ]
  },
  {
   "cell_type": "code",
   "execution_count": 37,
   "metadata": {},
   "outputs": [],
   "source": [
    "model.save(\"gesture_lstm_v4.h5\")"
   ]
  }
 ],
 "metadata": {
  "kernelspec": {
   "display_name": "Python 3",
   "language": "python",
   "name": "python3"
  },
  "language_info": {
   "codemirror_mode": {
    "name": "ipython",
    "version": 3
   },
   "file_extension": ".py",
   "mimetype": "text/x-python",
   "name": "python",
   "nbconvert_exporter": "python",
   "pygments_lexer": "ipython3",
   "version": "3.6.8"
  }
 },
 "nbformat": 4,
 "nbformat_minor": 2
}
