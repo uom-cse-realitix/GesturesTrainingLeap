{
 "cells": [
  {
   "cell_type": "code",
   "execution_count": 1,
   "metadata": {},
   "outputs": [],
   "source": [
    "import numpy as np\n",
    "import matplotlib.pyplot as plt\n",
    "import pandas\n",
    "import math\n",
    "import tensorflow as tf\n",
    "from tensorflow.keras.models import Sequential\n",
    "from tensorflow.keras.layers import Dense\n",
    "from tensorflow.keras.layers import LSTM\n",
    "from tensorflow.keras.layers import Dropout\n",
    "from sklearn.preprocessing import MinMaxScaler\n",
    "from sklearn.metrics import mean_squared_error"
   ]
  },
  {
   "cell_type": "code",
   "execution_count": 2,
   "metadata": {},
   "outputs": [],
   "source": [
    "from tensorflow.keras.layers import RNN"
   ]
  },
  {
   "cell_type": "code",
   "execution_count": 3,
   "metadata": {},
   "outputs": [
    {
     "data": {
      "text/plain": [
       "((156, 150), (156, 4))"
      ]
     },
     "execution_count": 3,
     "metadata": {},
     "output_type": "execute_result"
    }
   ],
   "source": [
    "data_x = np.loadtxt('gesture_input_x_v2.csv', dtype=float)\n",
    "data_y = np.loadtxt('gesture_input_y_v2.csv', dtype=float)\n",
    "\n",
    "data_x.shape, data_y.shape"
   ]
  },
  {
   "cell_type": "code",
   "execution_count": 4,
   "metadata": {},
   "outputs": [],
   "source": [
    "# fix random seed for reproducibility\n",
    "np.random.seed(7)"
   ]
  },
  {
   "cell_type": "code",
   "execution_count": 5,
   "metadata": {},
   "outputs": [
    {
     "data": {
      "text/plain": [
       "(124, 32)"
      ]
     },
     "execution_count": 5,
     "metadata": {},
     "output_type": "execute_result"
    }
   ],
   "source": [
    "# split into train and test sets\n",
    "train_size = int(len(data_x) * 0.8)\n",
    "test_size = len(data_x) - train_size\n",
    "train_size, test_size"
   ]
  },
  {
   "cell_type": "code",
   "execution_count": 6,
   "metadata": {},
   "outputs": [],
   "source": [
    "train_x, test_x = data_x[0:train_size,:], data_x[train_size:,:]\n",
    "train_y, test_y = data_y[0:train_size,:], data_y[train_size:,:]"
   ]
  },
  {
   "cell_type": "code",
   "execution_count": 7,
   "metadata": {},
   "outputs": [
    {
     "data": {
      "text/plain": [
       "((124, 150), (124, 4), (32, 150), (32, 4))"
      ]
     },
     "execution_count": 7,
     "metadata": {},
     "output_type": "execute_result"
    }
   ],
   "source": [
    "train_x.shape, train_y.shape, test_x.shape, test_y.shape"
   ]
  },
  {
   "cell_type": "code",
   "execution_count": 8,
   "metadata": {},
   "outputs": [],
   "source": [
    "# reshape input to be [samples, time steps, features]\n",
    "train_x = np.reshape(train_x, (train_x.shape[0], 1, train_x.shape[1]))\n",
    "# train_y = np.reshape(train_y, (train_y.shape[0], 1, train_y.shape[1]))\n",
    "\n",
    "test_x = np.reshape(test_x, (test_x.shape[0], 1, test_x.shape[1]))\n",
    "# test_y = np.reshape(test_y, (test_y.shape[0], 1, test_y.shape[1]))\n"
   ]
  },
  {
   "cell_type": "code",
   "execution_count": 10,
   "metadata": {},
   "outputs": [],
   "source": [
    "regularizer = tf.contrib.layers.l2_regularizer(scale=0.01)"
   ]
  },
  {
   "cell_type": "code",
   "execution_count": 11,
   "metadata": {},
   "outputs": [
    {
     "name": "stdout",
     "output_type": "stream",
     "text": [
      "WARNING:tensorflow:From /home/darshanakg/.conda/envs/tf_gpu/lib/python3.6/site-packages/tensorflow/python/ops/resource_variable_ops.py:435: colocate_with (from tensorflow.python.framework.ops) is deprecated and will be removed in a future version.\n",
      "Instructions for updating:\n",
      "Colocations handled automatically by placer.\n",
      "_________________________________________________________________\n",
      "Layer (type)                 Output Shape              Param #   \n",
      "=================================================================\n",
      "lstm (LSTM)                  (None, 150)               180600    \n",
      "_________________________________________________________________\n",
      "dense (Dense)                (None, 75)                11325     \n",
      "_________________________________________________________________\n",
      "dense_1 (Dense)              (None, 4)                 304       \n",
      "=================================================================\n",
      "Total params: 192,229\n",
      "Trainable params: 192,229\n",
      "Non-trainable params: 0\n",
      "_________________________________________________________________\n"
     ]
    }
   ],
   "source": [
    "# create and fit the LSTM network\n",
    "model = Sequential()\n",
    "model.add(LSTM(150, activation=tf.nn.tanh, kernel_regularizer=regularizer, input_shape=(1, 150)))\n",
    "model.add(Dense(75, activation=tf.nn.relu))\n",
    "model.add(Dense(4, activation=tf.nn.softmax))\n",
    "\n",
    "model.summary()"
   ]
  },
  {
   "cell_type": "code",
   "execution_count": 12,
   "metadata": {},
   "outputs": [
    {
     "name": "stdout",
     "output_type": "stream",
     "text": [
      "WARNING:tensorflow:From /home/darshanakg/.conda/envs/tf_gpu/lib/python3.6/site-packages/tensorflow/python/keras/utils/losses_utils.py:170: to_float (from tensorflow.python.ops.math_ops) is deprecated and will be removed in a future version.\n",
      "Instructions for updating:\n",
      "Use tf.cast instead.\n",
      "WARNING:tensorflow:From /home/darshanakg/.conda/envs/tf_gpu/lib/python3.6/site-packages/tensorflow/python/ops/math_ops.py:3066: to_int32 (from tensorflow.python.ops.math_ops) is deprecated and will be removed in a future version.\n",
      "Instructions for updating:\n",
      "Use tf.cast instead.\n",
      "Epoch 1/100\n",
      "124/124 [==============================] - 1s 5ms/sample - loss: 1.1997 - acc: 0.3468\n",
      "Epoch 2/100\n",
      "124/124 [==============================] - 0s 423us/sample - loss: 0.8370 - acc: 0.4274\n",
      "Epoch 3/100\n",
      "124/124 [==============================] - 0s 431us/sample - loss: 0.5858 - acc: 0.4839\n",
      "Epoch 4/100\n",
      "124/124 [==============================] - 0s 429us/sample - loss: 0.4262 - acc: 0.5161\n",
      "Epoch 5/100\n",
      "124/124 [==============================] - 0s 412us/sample - loss: 0.3140 - acc: 0.5242\n",
      "Epoch 6/100\n",
      "124/124 [==============================] - 0s 420us/sample - loss: 0.2520 - acc: 0.5806\n",
      "Epoch 7/100\n",
      "124/124 [==============================] - 0s 403us/sample - loss: 0.2056 - acc: 0.6613\n",
      "Epoch 8/100\n",
      "124/124 [==============================] - 0s 385us/sample - loss: 0.1822 - acc: 0.6290\n",
      "Epoch 9/100\n",
      "124/124 [==============================] - 0s 384us/sample - loss: 0.1705 - acc: 0.6613\n",
      "Epoch 10/100\n",
      "124/124 [==============================] - 0s 433us/sample - loss: 0.1435 - acc: 0.7742\n",
      "Epoch 11/100\n",
      "124/124 [==============================] - 0s 373us/sample - loss: 0.1419 - acc: 0.7419\n",
      "Epoch 12/100\n",
      "124/124 [==============================] - 0s 420us/sample - loss: 0.1403 - acc: 0.7258\n",
      "Epoch 13/100\n",
      "124/124 [==============================] - 0s 387us/sample - loss: 0.1476 - acc: 0.6532\n",
      "Epoch 14/100\n",
      "124/124 [==============================] - 0s 421us/sample - loss: 0.1380 - acc: 0.7258\n",
      "Epoch 15/100\n",
      "124/124 [==============================] - 0s 433us/sample - loss: 0.1277 - acc: 0.7823\n",
      "Epoch 16/100\n",
      "124/124 [==============================] - 0s 423us/sample - loss: 0.1183 - acc: 0.7581\n",
      "Epoch 17/100\n",
      "124/124 [==============================] - 0s 444us/sample - loss: 0.1179 - acc: 0.7823\n",
      "Epoch 18/100\n",
      "124/124 [==============================] - 0s 446us/sample - loss: 0.1170 - acc: 0.7661\n",
      "Epoch 19/100\n",
      "124/124 [==============================] - 0s 424us/sample - loss: 0.1134 - acc: 0.8145\n",
      "Epoch 20/100\n",
      "124/124 [==============================] - 0s 457us/sample - loss: 0.1173 - acc: 0.7581\n",
      "Epoch 21/100\n",
      "124/124 [==============================] - 0s 497us/sample - loss: 0.1130 - acc: 0.7823\n",
      "Epoch 22/100\n",
      "124/124 [==============================] - 0s 521us/sample - loss: 0.1108 - acc: 0.7903\n",
      "Epoch 23/100\n",
      "124/124 [==============================] - 0s 527us/sample - loss: 0.1048 - acc: 0.7903\n",
      "Epoch 24/100\n",
      "124/124 [==============================] - 0s 473us/sample - loss: 0.1052 - acc: 0.7984\n",
      "Epoch 25/100\n",
      "124/124 [==============================] - 0s 404us/sample - loss: 0.1066 - acc: 0.7984\n",
      "Epoch 26/100\n",
      "124/124 [==============================] - 0s 423us/sample - loss: 0.1009 - acc: 0.7903\n",
      "Epoch 27/100\n",
      "124/124 [==============================] - 0s 446us/sample - loss: 0.0984 - acc: 0.8145\n",
      "Epoch 28/100\n",
      "124/124 [==============================] - 0s 487us/sample - loss: 0.0966 - acc: 0.8145\n",
      "Epoch 29/100\n",
      "124/124 [==============================] - 0s 500us/sample - loss: 0.0899 - acc: 0.8468\n",
      "Epoch 30/100\n",
      "124/124 [==============================] - 0s 460us/sample - loss: 0.1029 - acc: 0.8145\n",
      "Epoch 31/100\n",
      "124/124 [==============================] - 0s 435us/sample - loss: 0.0941 - acc: 0.8065\n",
      "Epoch 32/100\n",
      "124/124 [==============================] - 0s 465us/sample - loss: 0.1032 - acc: 0.7984\n",
      "Epoch 33/100\n",
      "124/124 [==============================] - 0s 403us/sample - loss: 0.0949 - acc: 0.8387\n",
      "Epoch 34/100\n",
      "124/124 [==============================] - 0s 436us/sample - loss: 0.0982 - acc: 0.8145\n",
      "Epoch 35/100\n",
      "124/124 [==============================] - 0s 417us/sample - loss: 0.1004 - acc: 0.8065\n",
      "Epoch 36/100\n",
      "124/124 [==============================] - 0s 412us/sample - loss: 0.1052 - acc: 0.7742\n",
      "Epoch 37/100\n",
      "124/124 [==============================] - 0s 404us/sample - loss: 0.0976 - acc: 0.7823\n",
      "Epoch 38/100\n",
      "124/124 [==============================] - 0s 396us/sample - loss: 0.0886 - acc: 0.8387\n",
      "Epoch 39/100\n",
      "124/124 [==============================] - 0s 439us/sample - loss: 0.0893 - acc: 0.8306\n",
      "Epoch 40/100\n",
      "124/124 [==============================] - 0s 390us/sample - loss: 0.0925 - acc: 0.8226\n",
      "Epoch 41/100\n",
      "124/124 [==============================] - 0s 396us/sample - loss: 0.1160 - acc: 0.7500\n",
      "Epoch 42/100\n",
      "124/124 [==============================] - 0s 398us/sample - loss: 0.0993 - acc: 0.8065\n",
      "Epoch 43/100\n",
      "124/124 [==============================] - 0s 416us/sample - loss: 0.0963 - acc: 0.7984\n",
      "Epoch 44/100\n",
      "124/124 [==============================] - 0s 431us/sample - loss: 0.0983 - acc: 0.7903\n",
      "Epoch 45/100\n",
      "124/124 [==============================] - 0s 440us/sample - loss: 0.0887 - acc: 0.8306\n",
      "Epoch 46/100\n",
      "124/124 [==============================] - 0s 421us/sample - loss: 0.0907 - acc: 0.8145\n",
      "Epoch 47/100\n",
      "124/124 [==============================] - 0s 423us/sample - loss: 0.0945 - acc: 0.8145\n",
      "Epoch 48/100\n",
      "124/124 [==============================] - 0s 461us/sample - loss: 0.0836 - acc: 0.8468\n",
      "Epoch 49/100\n",
      "124/124 [==============================] - 0s 519us/sample - loss: 0.0800 - acc: 0.8548\n",
      "Epoch 50/100\n",
      "124/124 [==============================] - 0s 509us/sample - loss: 0.0823 - acc: 0.8387\n",
      "Epoch 51/100\n",
      "124/124 [==============================] - 0s 387us/sample - loss: 0.0864 - acc: 0.8468\n",
      "Epoch 52/100\n",
      "124/124 [==============================] - 0s 381us/sample - loss: 0.0850 - acc: 0.8226\n",
      "Epoch 53/100\n",
      "124/124 [==============================] - 0s 370us/sample - loss: 0.0804 - acc: 0.8468\n",
      "Epoch 54/100\n",
      "124/124 [==============================] - 0s 374us/sample - loss: 0.0816 - acc: 0.8548\n",
      "Epoch 55/100\n",
      "124/124 [==============================] - 0s 423us/sample - loss: 0.0792 - acc: 0.8548\n",
      "Epoch 56/100\n",
      "124/124 [==============================] - 0s 443us/sample - loss: 0.0836 - acc: 0.8468\n",
      "Epoch 57/100\n",
      "124/124 [==============================] - 0s 432us/sample - loss: 0.0947 - acc: 0.7984\n",
      "Epoch 58/100\n",
      "124/124 [==============================] - 0s 445us/sample - loss: 0.1036 - acc: 0.7823\n",
      "Epoch 59/100\n",
      "124/124 [==============================] - 0s 431us/sample - loss: 0.1013 - acc: 0.7742\n",
      "Epoch 60/100\n",
      "124/124 [==============================] - 0s 457us/sample - loss: 0.0894 - acc: 0.8226\n",
      "Epoch 61/100\n",
      "124/124 [==============================] - 0s 453us/sample - loss: 0.0866 - acc: 0.8226\n",
      "Epoch 62/100\n",
      "124/124 [==============================] - 0s 460us/sample - loss: 0.0767 - acc: 0.8548\n",
      "Epoch 63/100\n",
      "124/124 [==============================] - 0s 501us/sample - loss: 0.0761 - acc: 0.8548\n",
      "Epoch 64/100\n",
      "124/124 [==============================] - 0s 411us/sample - loss: 0.0810 - acc: 0.8387\n",
      "Epoch 65/100\n",
      "124/124 [==============================] - 0s 386us/sample - loss: 0.0819 - acc: 0.8306\n",
      "Epoch 66/100\n",
      "124/124 [==============================] - 0s 394us/sample - loss: 0.0798 - acc: 0.8387\n",
      "Epoch 67/100\n",
      "124/124 [==============================] - 0s 408us/sample - loss: 0.0816 - acc: 0.8306\n",
      "Epoch 68/100\n",
      "124/124 [==============================] - 0s 407us/sample - loss: 0.0929 - acc: 0.8145\n",
      "Epoch 69/100\n",
      "124/124 [==============================] - 0s 480us/sample - loss: 0.0817 - acc: 0.8226\n",
      "Epoch 70/100\n",
      "124/124 [==============================] - 0s 427us/sample - loss: 0.0826 - acc: 0.8306\n",
      "Epoch 71/100\n",
      "124/124 [==============================] - 0s 429us/sample - loss: 0.0796 - acc: 0.8468\n",
      "Epoch 72/100\n",
      "124/124 [==============================] - 0s 409us/sample - loss: 0.0754 - acc: 0.8629\n",
      "Epoch 73/100\n",
      "124/124 [==============================] - 0s 438us/sample - loss: 0.0904 - acc: 0.8065\n",
      "Epoch 74/100\n",
      "124/124 [==============================] - 0s 431us/sample - loss: 0.0835 - acc: 0.8548\n",
      "Epoch 75/100\n",
      "124/124 [==============================] - 0s 434us/sample - loss: 0.0889 - acc: 0.8226\n",
      "Epoch 76/100\n"
     ]
    },
    {
     "name": "stdout",
     "output_type": "stream",
     "text": [
      "124/124 [==============================] - 0s 379us/sample - loss: 0.0929 - acc: 0.7903\n",
      "Epoch 77/100\n",
      "124/124 [==============================] - 0s 385us/sample - loss: 0.0808 - acc: 0.8468\n",
      "Epoch 78/100\n",
      "124/124 [==============================] - 0s 378us/sample - loss: 0.0780 - acc: 0.8548\n",
      "Epoch 79/100\n",
      "124/124 [==============================] - 0s 404us/sample - loss: 0.0857 - acc: 0.8548\n",
      "Epoch 80/100\n",
      "124/124 [==============================] - 0s 428us/sample - loss: 0.0808 - acc: 0.8548\n",
      "Epoch 81/100\n",
      "124/124 [==============================] - 0s 399us/sample - loss: 0.0755 - acc: 0.8468\n",
      "Epoch 82/100\n",
      "124/124 [==============================] - 0s 414us/sample - loss: 0.0734 - acc: 0.8548\n",
      "Epoch 83/100\n",
      "124/124 [==============================] - 0s 413us/sample - loss: 0.0743 - acc: 0.8710\n",
      "Epoch 84/100\n",
      "124/124 [==============================] - 0s 408us/sample - loss: 0.0784 - acc: 0.8387\n",
      "Epoch 85/100\n",
      "124/124 [==============================] - 0s 404us/sample - loss: 0.0828 - acc: 0.8387\n",
      "Epoch 86/100\n",
      "124/124 [==============================] - 0s 384us/sample - loss: 0.0838 - acc: 0.8065\n",
      "Epoch 87/100\n",
      "124/124 [==============================] - 0s 386us/sample - loss: 0.0829 - acc: 0.8306\n",
      "Epoch 88/100\n",
      "124/124 [==============================] - 0s 401us/sample - loss: 0.0819 - acc: 0.8226\n",
      "Epoch 89/100\n",
      "124/124 [==============================] - 0s 368us/sample - loss: 0.0895 - acc: 0.8145\n",
      "Epoch 90/100\n",
      "124/124 [==============================] - 0s 399us/sample - loss: 0.0808 - acc: 0.8468\n",
      "Epoch 91/100\n",
      "124/124 [==============================] - 0s 404us/sample - loss: 0.0777 - acc: 0.8468\n",
      "Epoch 92/100\n",
      "124/124 [==============================] - 0s 426us/sample - loss: 0.0716 - acc: 0.8548\n",
      "Epoch 93/100\n",
      "124/124 [==============================] - 0s 396us/sample - loss: 0.0728 - acc: 0.8468\n",
      "Epoch 94/100\n",
      "124/124 [==============================] - 0s 430us/sample - loss: 0.0727 - acc: 0.8629\n",
      "Epoch 95/100\n",
      "124/124 [==============================] - 0s 422us/sample - loss: 0.0940 - acc: 0.7823\n",
      "Epoch 96/100\n",
      "124/124 [==============================] - 0s 385us/sample - loss: 0.0793 - acc: 0.8468\n",
      "Epoch 97/100\n",
      "124/124 [==============================] - 0s 398us/sample - loss: 0.0803 - acc: 0.8306\n",
      "Epoch 98/100\n",
      "124/124 [==============================] - 0s 403us/sample - loss: 0.0888 - acc: 0.7984\n",
      "Epoch 99/100\n",
      "124/124 [==============================] - 0s 397us/sample - loss: 0.0828 - acc: 0.8306\n",
      "Epoch 100/100\n",
      "124/124 [==============================] - 0s 387us/sample - loss: 0.0734 - acc: 0.8629\n"
     ]
    },
    {
     "data": {
      "text/plain": [
       "<tensorflow.python.keras.callbacks.History at 0x7f28addc2e48>"
      ]
     },
     "execution_count": 12,
     "metadata": {},
     "output_type": "execute_result"
    }
   ],
   "source": [
    "model.compile(loss='mean_squared_error', optimizer='adam', metrics=['accuracy'])\n",
    "model.fit(train_x, train_y, epochs=100, batch_size=10, verbose=1)"
   ]
  },
  {
   "cell_type": "code",
   "execution_count": 13,
   "metadata": {},
   "outputs": [
    {
     "name": "stdout",
     "output_type": "stream",
     "text": [
      "\r",
      "32/32 [==============================] - 0s 2ms/sample - loss: 0.0961 - acc: 0.7812\n"
     ]
    },
    {
     "data": {
      "text/plain": [
       "[0.09612279385328293, 0.78125]"
      ]
     },
     "execution_count": 13,
     "metadata": {},
     "output_type": "execute_result"
    }
   ],
   "source": [
    "model.evaluate(test_x, test_y)"
   ]
  },
  {
   "cell_type": "code",
   "execution_count": 14,
   "metadata": {},
   "outputs": [
    {
     "data": {
      "text/plain": [
       "array([[0.04118439, 0.8752451 , 0.07946824, 0.00410228]], dtype=float32)"
      ]
     },
     "execution_count": 14,
     "metadata": {},
     "output_type": "execute_result"
    }
   ],
   "source": [
    "model.predict(test_x[1].reshape(1, 1, 150))"
   ]
  },
  {
   "cell_type": "code",
   "execution_count": 15,
   "metadata": {},
   "outputs": [],
   "source": [
    "model.save(\"gesture_lstm_v2.h5\")"
   ]
  }
 ],
 "metadata": {
  "kernelspec": {
   "display_name": "Python 3",
   "language": "python",
   "name": "python3"
  },
  "language_info": {
   "codemirror_mode": {
    "name": "ipython",
    "version": 3
   },
   "file_extension": ".py",
   "mimetype": "text/x-python",
   "name": "python",
   "nbconvert_exporter": "python",
   "pygments_lexer": "ipython3",
   "version": "3.6.8"
  }
 },
 "nbformat": 4,
 "nbformat_minor": 2
}
