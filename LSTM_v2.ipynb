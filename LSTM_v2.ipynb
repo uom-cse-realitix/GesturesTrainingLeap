{
 "cells": [
  {
   "cell_type": "code",
   "execution_count": 1,
   "metadata": {},
   "outputs": [],
   "source": [
    "import numpy as np\n",
    "import matplotlib.pyplot as plt\n",
    "import pandas\n",
    "import math\n",
    "import tensorflow as tf\n",
    "from tensorflow.keras.models import Sequential\n",
    "from tensorflow.keras.layers import Dense\n",
    "from tensorflow.keras.layers import LSTM\n",
    "from tensorflow.keras.layers import Dropout\n",
    "from sklearn.preprocessing import MinMaxScaler\n",
    "from sklearn.metrics import mean_squared_error"
   ]
  },
  {
   "cell_type": "code",
   "execution_count": 2,
   "metadata": {},
   "outputs": [
    {
     "data": {
      "text/plain": [
       "((314, 270), (314, 5))"
      ]
     },
     "execution_count": 2,
     "metadata": {},
     "output_type": "execute_result"
    }
   ],
   "source": [
    "data_x = np.loadtxt('gesture_input_x_v11.csv', dtype=float)\n",
    "data_y = np.loadtxt('gesture_input_y_v11.csv', dtype=float)\n",
    "\n",
    "data_x.shape, data_y.shape"
   ]
  },
  {
   "cell_type": "code",
   "execution_count": 3,
   "metadata": {},
   "outputs": [],
   "source": [
    "# fix random seed for reproducibility\n",
    "np.random.seed(7)"
   ]
  },
  {
   "cell_type": "code",
   "execution_count": 4,
   "metadata": {},
   "outputs": [
    {
     "data": {
      "text/plain": [
       "(251, 63)"
      ]
     },
     "execution_count": 4,
     "metadata": {},
     "output_type": "execute_result"
    }
   ],
   "source": [
    "# split into train and test sets\n",
    "train_size = int(len(data_x) * 0.8)\n",
    "test_size = len(data_x) - train_size\n",
    "train_size, test_size"
   ]
  },
  {
   "cell_type": "code",
   "execution_count": 5,
   "metadata": {},
   "outputs": [],
   "source": [
    "train_x, test_x = data_x[0:train_size,:], data_x[train_size:,:]\n",
    "train_y, test_y = data_y[0:train_size,:], data_y[train_size:,:]"
   ]
  },
  {
   "cell_type": "code",
   "execution_count": 6,
   "metadata": {},
   "outputs": [
    {
     "data": {
      "text/plain": [
       "((251, 270), (251, 5), (63, 270), (63, 5))"
      ]
     },
     "execution_count": 6,
     "metadata": {},
     "output_type": "execute_result"
    }
   ],
   "source": [
    "train_x.shape, train_y.shape, test_x.shape, test_y.shape"
   ]
  },
  {
   "cell_type": "code",
   "execution_count": 7,
   "metadata": {},
   "outputs": [],
   "source": [
    "# reshape input to be [samples, time steps, features]\n",
    "train_x = np.reshape(train_x, (train_x.shape[0], 1, train_x.shape[1]))\n",
    "# train_y = np.reshape(train_y, (train_y.shape[0], 1, train_y.shape[1]))\n",
    "\n",
    "test_x = np.reshape(test_x, (test_x.shape[0], 1, test_x.shape[1]))\n",
    "# test_y = np.reshape(test_y, (test_y.shape[0], 1, test_y.shape[1]))\n"
   ]
  },
  {
   "cell_type": "code",
   "execution_count": 9,
   "metadata": {},
   "outputs": [
    {
     "name": "stdout",
     "output_type": "stream",
     "text": [
      "\n",
      "WARNING: The TensorFlow contrib module will not be included in TensorFlow 2.0.\n",
      "For more information, please see:\n",
      "  * https://github.com/tensorflow/community/blob/master/rfcs/20180907-contrib-sunset.md\n",
      "  * https://github.com/tensorflow/addons\n",
      "If you depend on functionality not listed there, please file an issue.\n",
      "\n"
     ]
    }
   ],
   "source": [
    "regularizer = tf.contrib.layers.l2_regularizer(scale=0.01)"
   ]
  },
  {
   "cell_type": "code",
   "execution_count": 29,
   "metadata": {},
   "outputs": [
    {
     "name": "stdout",
     "output_type": "stream",
     "text": [
      "_________________________________________________________________\n",
      "Layer (type)                 Output Shape              Param #   \n",
      "=================================================================\n",
      "lstm_4 (LSTM)                (None, 270)               584280    \n",
      "_________________________________________________________________\n",
      "dense_8 (Dense)              (None, 100)               27100     \n",
      "_________________________________________________________________\n",
      "dense_9 (Dense)              (None, 5)                 505       \n",
      "=================================================================\n",
      "Total params: 611,885\n",
      "Trainable params: 611,885\n",
      "Non-trainable params: 0\n",
      "_________________________________________________________________\n"
     ]
    }
   ],
   "source": [
    "# create and fit the LSTM network\n",
    "model = Sequential()\n",
    "model.add(LSTM(270, activation=tf.nn.tanh, kernel_regularizer=regularizer, input_shape=(1, 270)))\n",
    "model.add(Dense(100, activation=tf.nn.relu, kernel_regularizer=regularizer))\n",
    "model.add(Dense(5, activation=tf.nn.softmax))\n",
    "\n",
    "model.compile(loss='mean_squared_error', optimizer='adam', metrics=['accuracy'])\n",
    "\n",
    "model.summary()"
   ]
  },
  {
   "cell_type": "code",
   "execution_count": 30,
   "metadata": {},
   "outputs": [
    {
     "name": "stdout",
     "output_type": "stream",
     "text": [
      "Epoch 1/200\n",
      "251/251 [==============================] - 1s 2ms/sample - loss: 2.0166 - acc: 0.3386\n",
      "Epoch 2/200\n",
      "251/251 [==============================] - 0s 462us/sample - loss: 0.7666 - acc: 0.4143\n",
      "Epoch 3/200\n",
      "251/251 [==============================] - 0s 475us/sample - loss: 0.3545 - acc: 0.4940\n",
      "Epoch 4/200\n",
      "251/251 [==============================] - 0s 459us/sample - loss: 0.2296 - acc: 0.4462\n",
      "Epoch 5/200\n",
      "251/251 [==============================] - 0s 454us/sample - loss: 0.1826 - acc: 0.4821\n",
      "Epoch 6/200\n",
      "251/251 [==============================] - 0s 451us/sample - loss: 0.1607 - acc: 0.4900\n",
      "Epoch 7/200\n",
      "251/251 [==============================] - 0s 476us/sample - loss: 0.1532 - acc: 0.5100\n",
      "Epoch 8/200\n",
      "251/251 [==============================] - 0s 475us/sample - loss: 0.1456 - acc: 0.5139\n",
      "Epoch 9/200\n",
      "251/251 [==============================] - 0s 489us/sample - loss: 0.1385 - acc: 0.6375\n",
      "Epoch 10/200\n",
      "251/251 [==============================] - 0s 482us/sample - loss: 0.1374 - acc: 0.5578\n",
      "Epoch 11/200\n",
      "251/251 [==============================] - 0s 484us/sample - loss: 0.1359 - acc: 0.6215\n",
      "Epoch 12/200\n",
      "251/251 [==============================] - 0s 475us/sample - loss: 0.1337 - acc: 0.6255\n",
      "Epoch 13/200\n",
      "251/251 [==============================] - 0s 472us/sample - loss: 0.1278 - acc: 0.6574\n",
      "Epoch 14/200\n",
      "251/251 [==============================] - 0s 490us/sample - loss: 0.1307 - acc: 0.6614\n",
      "Epoch 15/200\n",
      "251/251 [==============================] - 0s 501us/sample - loss: 0.1263 - acc: 0.6414\n",
      "Epoch 16/200\n",
      "251/251 [==============================] - 0s 482us/sample - loss: 0.1270 - acc: 0.6454\n",
      "Epoch 17/200\n",
      "251/251 [==============================] - 0s 477us/sample - loss: 0.1262 - acc: 0.6614\n",
      "Epoch 18/200\n",
      "251/251 [==============================] - 0s 455us/sample - loss: 0.1225 - acc: 0.6653\n",
      "Epoch 19/200\n",
      "251/251 [==============================] - 0s 486us/sample - loss: 0.1188 - acc: 0.7092\n",
      "Epoch 20/200\n",
      "251/251 [==============================] - 0s 535us/sample - loss: 0.1139 - acc: 0.6972\n",
      "Epoch 21/200\n",
      "251/251 [==============================] - 0s 455us/sample - loss: 0.1134 - acc: 0.6972\n",
      "Epoch 22/200\n",
      "251/251 [==============================] - 0s 480us/sample - loss: 0.1215 - acc: 0.6653\n",
      "Epoch 23/200\n",
      "251/251 [==============================] - 0s 443us/sample - loss: 0.1212 - acc: 0.6813\n",
      "Epoch 24/200\n",
      "251/251 [==============================] - 0s 441us/sample - loss: 0.1180 - acc: 0.6853\n",
      "Epoch 25/200\n",
      "251/251 [==============================] - 0s 428us/sample - loss: 0.1172 - acc: 0.7052\n",
      "Epoch 26/200\n",
      "251/251 [==============================] - 0s 452us/sample - loss: 0.1134 - acc: 0.6972\n",
      "Epoch 27/200\n",
      "251/251 [==============================] - 0s 479us/sample - loss: 0.1203 - acc: 0.6494\n",
      "Epoch 28/200\n",
      "251/251 [==============================] - 0s 500us/sample - loss: 0.1124 - acc: 0.6892\n",
      "Epoch 29/200\n",
      "251/251 [==============================] - 0s 488us/sample - loss: 0.1159 - acc: 0.6932\n",
      "Epoch 30/200\n",
      "251/251 [==============================] - 0s 452us/sample - loss: 0.1069 - acc: 0.7450\n",
      "Epoch 31/200\n",
      "251/251 [==============================] - 0s 513us/sample - loss: 0.1085 - acc: 0.7171\n",
      "Epoch 32/200\n",
      "251/251 [==============================] - 0s 480us/sample - loss: 0.1084 - acc: 0.7131\n",
      "Epoch 33/200\n",
      "251/251 [==============================] - 0s 475us/sample - loss: 0.1020 - acc: 0.7371\n",
      "Epoch 34/200\n",
      "251/251 [==============================] - 0s 430us/sample - loss: 0.1040 - acc: 0.7371\n",
      "Epoch 35/200\n",
      "251/251 [==============================] - 0s 442us/sample - loss: 0.1097 - acc: 0.6972\n",
      "Epoch 36/200\n",
      "251/251 [==============================] - 0s 501us/sample - loss: 0.1065 - acc: 0.7251\n",
      "Epoch 37/200\n",
      "251/251 [==============================] - 0s 553us/sample - loss: 0.1052 - acc: 0.7331\n",
      "Epoch 38/200\n",
      "251/251 [==============================] - 0s 491us/sample - loss: 0.1018 - acc: 0.7211\n",
      "Epoch 39/200\n",
      "251/251 [==============================] - 0s 460us/sample - loss: 0.0998 - acc: 0.7450\n",
      "Epoch 40/200\n",
      "251/251 [==============================] - 0s 468us/sample - loss: 0.0997 - acc: 0.7490\n",
      "Epoch 41/200\n",
      "251/251 [==============================] - 0s 551us/sample - loss: 0.1220 - acc: 0.6574\n",
      "Epoch 42/200\n",
      "251/251 [==============================] - 0s 487us/sample - loss: 0.1166 - acc: 0.6773\n",
      "Epoch 43/200\n",
      "251/251 [==============================] - 0s 502us/sample - loss: 0.1068 - acc: 0.7331\n",
      "Epoch 44/200\n",
      "251/251 [==============================] - 0s 458us/sample - loss: 0.1011 - acc: 0.7490\n",
      "Epoch 45/200\n",
      "251/251 [==============================] - 0s 461us/sample - loss: 0.0992 - acc: 0.7490\n",
      "Epoch 46/200\n",
      "251/251 [==============================] - 0s 480us/sample - loss: 0.1021 - acc: 0.7291\n",
      "Epoch 47/200\n",
      "251/251 [==============================] - 0s 500us/sample - loss: 0.1083 - acc: 0.7211\n",
      "Epoch 48/200\n",
      "251/251 [==============================] - 0s 488us/sample - loss: 0.0993 - acc: 0.7570\n",
      "Epoch 49/200\n",
      "251/251 [==============================] - 0s 452us/sample - loss: 0.0978 - acc: 0.7251\n",
      "Epoch 50/200\n",
      "251/251 [==============================] - 0s 461us/sample - loss: 0.0980 - acc: 0.7490\n",
      "Epoch 51/200\n",
      "251/251 [==============================] - 0s 497us/sample - loss: 0.1106 - acc: 0.6853\n",
      "Epoch 52/200\n",
      "251/251 [==============================] - 0s 513us/sample - loss: 0.1077 - acc: 0.7610\n",
      "Epoch 53/200\n",
      "251/251 [==============================] - 0s 507us/sample - loss: 0.0995 - acc: 0.7530\n",
      "Epoch 54/200\n",
      "251/251 [==============================] - 0s 459us/sample - loss: 0.0998 - acc: 0.7610\n",
      "Epoch 55/200\n",
      "251/251 [==============================] - 0s 453us/sample - loss: 0.0966 - acc: 0.7530\n",
      "Epoch 56/200\n",
      "251/251 [==============================] - 0s 445us/sample - loss: 0.0932 - acc: 0.7570\n",
      "Epoch 57/200\n",
      "251/251 [==============================] - 0s 459us/sample - loss: 0.0939 - acc: 0.7729\n",
      "Epoch 58/200\n",
      "251/251 [==============================] - 0s 469us/sample - loss: 0.0921 - acc: 0.7649\n",
      "Epoch 59/200\n",
      "251/251 [==============================] - 0s 452us/sample - loss: 0.0972 - acc: 0.7689\n",
      "Epoch 60/200\n",
      "251/251 [==============================] - 0s 517us/sample - loss: 0.0942 - acc: 0.7570\n",
      "Epoch 61/200\n",
      "251/251 [==============================] - 0s 518us/sample - loss: 0.0988 - acc: 0.7649\n",
      "Epoch 62/200\n",
      "251/251 [==============================] - 0s 568us/sample - loss: 0.1018 - acc: 0.7490\n",
      "Epoch 63/200\n",
      "251/251 [==============================] - 0s 471us/sample - loss: 0.0956 - acc: 0.7729\n",
      "Epoch 64/200\n",
      "251/251 [==============================] - 0s 499us/sample - loss: 0.0917 - acc: 0.7769\n",
      "Epoch 65/200\n",
      "251/251 [==============================] - 0s 486us/sample - loss: 0.0898 - acc: 0.7888\n",
      "Epoch 66/200\n",
      "251/251 [==============================] - 0s 463us/sample - loss: 0.0918 - acc: 0.7809\n",
      "Epoch 67/200\n",
      "251/251 [==============================] - 0s 521us/sample - loss: 0.0924 - acc: 0.7610\n",
      "Epoch 68/200\n",
      "251/251 [==============================] - 0s 530us/sample - loss: 0.0915 - acc: 0.8048\n",
      "Epoch 69/200\n",
      "251/251 [==============================] - 0s 477us/sample - loss: 0.0956 - acc: 0.7490\n",
      "Epoch 70/200\n",
      "251/251 [==============================] - 0s 496us/sample - loss: 0.0951 - acc: 0.7849\n",
      "Epoch 71/200\n",
      "251/251 [==============================] - 0s 458us/sample - loss: 0.1015 - acc: 0.7649\n",
      "Epoch 72/200\n",
      "251/251 [==============================] - 0s 450us/sample - loss: 0.0943 - acc: 0.7610\n",
      "Epoch 73/200\n",
      "251/251 [==============================] - 0s 498us/sample - loss: 0.0923 - acc: 0.7689\n",
      "Epoch 74/200\n",
      "251/251 [==============================] - 0s 480us/sample - loss: 0.0930 - acc: 0.7769\n",
      "Epoch 75/200\n",
      "251/251 [==============================] - 0s 481us/sample - loss: 0.0894 - acc: 0.7809\n",
      "Epoch 76/200\n",
      "251/251 [==============================] - 0s 431us/sample - loss: 0.0914 - acc: 0.7888\n",
      "Epoch 77/200\n",
      "251/251 [==============================] - 0s 474us/sample - loss: 0.0951 - acc: 0.7490\n",
      "Epoch 78/200\n",
      "251/251 [==============================] - 0s 475us/sample - loss: 0.0904 - acc: 0.7888\n",
      "Epoch 79/200\n",
      "251/251 [==============================] - 0s 459us/sample - loss: 0.0887 - acc: 0.7968\n",
      "Epoch 80/200\n",
      "251/251 [==============================] - 0s 470us/sample - loss: 0.1012 - acc: 0.7729\n",
      "Epoch 81/200\n",
      "251/251 [==============================] - 0s 447us/sample - loss: 0.0956 - acc: 0.7888\n",
      "Epoch 82/200\n"
     ]
    },
    {
     "name": "stdout",
     "output_type": "stream",
     "text": [
      "251/251 [==============================] - 0s 449us/sample - loss: 0.0982 - acc: 0.7649\n",
      "Epoch 83/200\n",
      "251/251 [==============================] - 0s 465us/sample - loss: 0.0950 - acc: 0.7689\n",
      "Epoch 84/200\n",
      "251/251 [==============================] - 0s 429us/sample - loss: 0.0898 - acc: 0.8008\n",
      "Epoch 85/200\n",
      "251/251 [==============================] - 0s 446us/sample - loss: 0.0905 - acc: 0.7809\n",
      "Epoch 86/200\n",
      "251/251 [==============================] - 0s 491us/sample - loss: 0.0862 - acc: 0.8127\n",
      "Epoch 87/200\n",
      "251/251 [==============================] - 0s 466us/sample - loss: 0.0880 - acc: 0.8008\n",
      "Epoch 88/200\n",
      "251/251 [==============================] - 0s 460us/sample - loss: 0.0885 - acc: 0.8008\n",
      "Epoch 89/200\n",
      "251/251 [==============================] - 0s 445us/sample - loss: 0.0864 - acc: 0.7928\n",
      "Epoch 90/200\n",
      "251/251 [==============================] - 0s 467us/sample - loss: 0.0874 - acc: 0.7968\n",
      "Epoch 91/200\n",
      "251/251 [==============================] - 0s 461us/sample - loss: 0.0930 - acc: 0.7689\n",
      "Epoch 92/200\n",
      "251/251 [==============================] - 0s 425us/sample - loss: 0.0867 - acc: 0.8088\n",
      "Epoch 93/200\n",
      "251/251 [==============================] - 0s 420us/sample - loss: 0.0926 - acc: 0.7928\n",
      "Epoch 94/200\n",
      "251/251 [==============================] - 0s 433us/sample - loss: 0.0880 - acc: 0.8127\n",
      "Epoch 95/200\n",
      "251/251 [==============================] - 0s 461us/sample - loss: 0.0855 - acc: 0.7769\n",
      "Epoch 96/200\n",
      "251/251 [==============================] - 0s 481us/sample - loss: 0.0869 - acc: 0.7809\n",
      "Epoch 97/200\n",
      "251/251 [==============================] - 0s 518us/sample - loss: 0.0835 - acc: 0.8287\n",
      "Epoch 98/200\n",
      "251/251 [==============================] - 0s 489us/sample - loss: 0.0898 - acc: 0.7729\n",
      "Epoch 99/200\n",
      "251/251 [==============================] - 0s 538us/sample - loss: 0.0843 - acc: 0.7928\n",
      "Epoch 100/200\n",
      "251/251 [==============================] - 0s 517us/sample - loss: 0.0828 - acc: 0.8048\n",
      "Epoch 101/200\n",
      "251/251 [==============================] - 0s 466us/sample - loss: 0.0834 - acc: 0.8127\n",
      "Epoch 102/200\n",
      "251/251 [==============================] - 0s 448us/sample - loss: 0.0847 - acc: 0.8048\n",
      "Epoch 103/200\n",
      "251/251 [==============================] - 0s 450us/sample - loss: 0.1006 - acc: 0.7729\n",
      "Epoch 104/200\n",
      "251/251 [==============================] - 0s 459us/sample - loss: 0.0904 - acc: 0.8008\n",
      "Epoch 105/200\n",
      "251/251 [==============================] - 0s 460us/sample - loss: 0.0889 - acc: 0.7849\n",
      "Epoch 106/200\n",
      "251/251 [==============================] - 0s 453us/sample - loss: 0.0994 - acc: 0.7450\n",
      "Epoch 107/200\n",
      "251/251 [==============================] - 0s 457us/sample - loss: 0.1005 - acc: 0.7729\n",
      "Epoch 108/200\n",
      "251/251 [==============================] - 0s 489us/sample - loss: 0.0856 - acc: 0.8127\n",
      "Epoch 109/200\n",
      "251/251 [==============================] - 0s 510us/sample - loss: 0.0853 - acc: 0.8088\n",
      "Epoch 110/200\n",
      "251/251 [==============================] - 0s 458us/sample - loss: 0.0841 - acc: 0.8207\n",
      "Epoch 111/200\n",
      "251/251 [==============================] - 0s 461us/sample - loss: 0.0855 - acc: 0.7928\n",
      "Epoch 112/200\n",
      "251/251 [==============================] - 0s 482us/sample - loss: 0.0917 - acc: 0.7888\n",
      "Epoch 113/200\n",
      "251/251 [==============================] - 0s 484us/sample - loss: 0.0954 - acc: 0.7649\n",
      "Epoch 114/200\n",
      "251/251 [==============================] - 0s 486us/sample - loss: 0.0931 - acc: 0.7809\n",
      "Epoch 115/200\n",
      "251/251 [==============================] - 0s 494us/sample - loss: 0.0851 - acc: 0.8088\n",
      "Epoch 116/200\n",
      "251/251 [==============================] - 0s 481us/sample - loss: 0.0907 - acc: 0.7729\n",
      "Epoch 117/200\n",
      "251/251 [==============================] - 0s 501us/sample - loss: 0.0862 - acc: 0.8247\n",
      "Epoch 118/200\n",
      "251/251 [==============================] - 0s 483us/sample - loss: 0.0831 - acc: 0.8406\n",
      "Epoch 119/200\n",
      "251/251 [==============================] - 0s 461us/sample - loss: 0.0822 - acc: 0.8247\n",
      "Epoch 120/200\n",
      "251/251 [==============================] - 0s 487us/sample - loss: 0.0823 - acc: 0.8207\n",
      "Epoch 121/200\n",
      "251/251 [==============================] - 0s 449us/sample - loss: 0.0912 - acc: 0.7928\n",
      "Epoch 122/200\n",
      "251/251 [==============================] - 0s 437us/sample - loss: 0.0935 - acc: 0.7928\n",
      "Epoch 123/200\n",
      "251/251 [==============================] - 0s 460us/sample - loss: 0.0925 - acc: 0.7968\n",
      "Epoch 124/200\n",
      "251/251 [==============================] - 0s 464us/sample - loss: 0.0981 - acc: 0.7331\n",
      "Epoch 125/200\n",
      "251/251 [==============================] - 0s 452us/sample - loss: 0.1020 - acc: 0.7689\n",
      "Epoch 126/200\n",
      "251/251 [==============================] - 0s 441us/sample - loss: 0.0885 - acc: 0.7888\n",
      "Epoch 127/200\n",
      "251/251 [==============================] - 0s 460us/sample - loss: 0.0873 - acc: 0.8048\n",
      "Epoch 128/200\n",
      "251/251 [==============================] - 0s 494us/sample - loss: 0.0826 - acc: 0.8088\n",
      "Epoch 129/200\n",
      "251/251 [==============================] - 0s 459us/sample - loss: 0.0883 - acc: 0.8167\n",
      "Epoch 130/200\n",
      "251/251 [==============================] - 0s 474us/sample - loss: 0.0825 - acc: 0.8008\n",
      "Epoch 131/200\n",
      "251/251 [==============================] - 0s 505us/sample - loss: 0.0915 - acc: 0.7769\n",
      "Epoch 132/200\n",
      "251/251 [==============================] - 0s 476us/sample - loss: 0.0837 - acc: 0.8127\n",
      "Epoch 133/200\n",
      "251/251 [==============================] - 0s 437us/sample - loss: 0.0822 - acc: 0.8127\n",
      "Epoch 134/200\n",
      "251/251 [==============================] - 0s 443us/sample - loss: 0.0791 - acc: 0.8367\n",
      "Epoch 135/200\n",
      "251/251 [==============================] - 0s 456us/sample - loss: 0.0809 - acc: 0.8167\n",
      "Epoch 136/200\n",
      "251/251 [==============================] - 0s 479us/sample - loss: 0.0796 - acc: 0.8287\n",
      "Epoch 137/200\n",
      "251/251 [==============================] - 0s 457us/sample - loss: 0.0840 - acc: 0.8048\n",
      "Epoch 138/200\n",
      "251/251 [==============================] - 0s 453us/sample - loss: 0.0811 - acc: 0.8207\n",
      "Epoch 139/200\n",
      "251/251 [==============================] - 0s 449us/sample - loss: 0.0823 - acc: 0.8287\n",
      "Epoch 140/200\n",
      "251/251 [==============================] - 0s 464us/sample - loss: 0.0860 - acc: 0.8127\n",
      "Epoch 141/200\n",
      "251/251 [==============================] - 0s 474us/sample - loss: 0.0914 - acc: 0.7888\n",
      "Epoch 142/200\n",
      "251/251 [==============================] - 0s 473us/sample - loss: 0.0879 - acc: 0.7968\n",
      "Epoch 143/200\n",
      "251/251 [==============================] - 0s 492us/sample - loss: 0.0881 - acc: 0.8008\n",
      "Epoch 144/200\n",
      "251/251 [==============================] - 0s 468us/sample - loss: 0.0871 - acc: 0.8048\n",
      "Epoch 145/200\n",
      "251/251 [==============================] - 0s 486us/sample - loss: 0.0797 - acc: 0.8367\n",
      "Epoch 146/200\n",
      "251/251 [==============================] - 0s 496us/sample - loss: 0.0828 - acc: 0.8008\n",
      "Epoch 147/200\n",
      "251/251 [==============================] - 0s 485us/sample - loss: 0.0866 - acc: 0.8247\n",
      "Epoch 148/200\n",
      "251/251 [==============================] - 0s 498us/sample - loss: 0.0802 - acc: 0.8327\n",
      "Epoch 149/200\n",
      "251/251 [==============================] - 0s 470us/sample - loss: 0.0799 - acc: 0.8127\n",
      "Epoch 150/200\n",
      "251/251 [==============================] - 0s 464us/sample - loss: 0.0824 - acc: 0.8127\n",
      "Epoch 151/200\n",
      "251/251 [==============================] - 0s 491us/sample - loss: 0.0802 - acc: 0.8167\n",
      "Epoch 152/200\n",
      "251/251 [==============================] - 0s 487us/sample - loss: 0.0793 - acc: 0.8247\n",
      "Epoch 153/200\n",
      "251/251 [==============================] - 0s 471us/sample - loss: 0.0812 - acc: 0.8287\n",
      "Epoch 154/200\n",
      "251/251 [==============================] - 0s 471us/sample - loss: 0.0777 - acc: 0.8446\n",
      "Epoch 155/200\n",
      "251/251 [==============================] - 0s 469us/sample - loss: 0.0763 - acc: 0.8327\n",
      "Epoch 156/200\n",
      "251/251 [==============================] - 0s 494us/sample - loss: 0.0789 - acc: 0.8367\n",
      "Epoch 157/200\n",
      "251/251 [==============================] - 0s 435us/sample - loss: 0.0842 - acc: 0.8207\n",
      "Epoch 158/200\n",
      "251/251 [==============================] - 0s 459us/sample - loss: 0.0851 - acc: 0.8167\n",
      "Epoch 159/200\n",
      "251/251 [==============================] - 0s 470us/sample - loss: 0.0796 - acc: 0.8406\n",
      "Epoch 160/200\n",
      "251/251 [==============================] - 0s 471us/sample - loss: 0.0769 - acc: 0.8446\n",
      "Epoch 161/200\n",
      "251/251 [==============================] - 0s 462us/sample - loss: 0.1082 - acc: 0.7171\n",
      "Epoch 162/200\n"
     ]
    },
    {
     "name": "stdout",
     "output_type": "stream",
     "text": [
      "251/251 [==============================] - 0s 459us/sample - loss: 0.0918 - acc: 0.7928\n",
      "Epoch 163/200\n",
      "251/251 [==============================] - 0s 472us/sample - loss: 0.0947 - acc: 0.7649\n",
      "Epoch 164/200\n",
      "251/251 [==============================] - 0s 504us/sample - loss: 0.0799 - acc: 0.8486\n",
      "Epoch 165/200\n",
      "251/251 [==============================] - 0s 478us/sample - loss: 0.0795 - acc: 0.8446\n",
      "Epoch 166/200\n",
      "251/251 [==============================] - 0s 511us/sample - loss: 0.0830 - acc: 0.8048\n",
      "Epoch 167/200\n",
      "251/251 [==============================] - 0s 479us/sample - loss: 0.0820 - acc: 0.8127\n",
      "Epoch 168/200\n",
      "251/251 [==============================] - 0s 448us/sample - loss: 0.0938 - acc: 0.7769\n",
      "Epoch 169/200\n",
      "251/251 [==============================] - 0s 433us/sample - loss: 0.0845 - acc: 0.8127\n",
      "Epoch 170/200\n",
      "251/251 [==============================] - 0s 475us/sample - loss: 0.0978 - acc: 0.7928\n",
      "Epoch 171/200\n",
      "251/251 [==============================] - 0s 471us/sample - loss: 0.0802 - acc: 0.8367\n",
      "Epoch 172/200\n",
      "251/251 [==============================] - 0s 461us/sample - loss: 0.1185 - acc: 0.7251\n",
      "Epoch 173/200\n",
      "251/251 [==============================] - 0s 460us/sample - loss: 0.0881 - acc: 0.8207\n",
      "Epoch 174/200\n",
      "251/251 [==============================] - 0s 433us/sample - loss: 0.0794 - acc: 0.8406\n",
      "Epoch 175/200\n",
      "251/251 [==============================] - 0s 442us/sample - loss: 0.0832 - acc: 0.8127\n",
      "Epoch 176/200\n",
      "251/251 [==============================] - 0s 438us/sample - loss: 0.0816 - acc: 0.8127\n",
      "Epoch 177/200\n",
      "251/251 [==============================] - 0s 471us/sample - loss: 0.0848 - acc: 0.8008\n",
      "Epoch 178/200\n",
      "251/251 [==============================] - 0s 470us/sample - loss: 0.0790 - acc: 0.8247\n",
      "Epoch 179/200\n",
      "251/251 [==============================] - 0s 456us/sample - loss: 0.0776 - acc: 0.8287\n",
      "Epoch 180/200\n",
      "251/251 [==============================] - 0s 443us/sample - loss: 0.0802 - acc: 0.8048\n",
      "Epoch 181/200\n",
      "251/251 [==============================] - 0s 459us/sample - loss: 0.0866 - acc: 0.7968\n",
      "Epoch 182/200\n",
      "251/251 [==============================] - 0s 468us/sample - loss: 0.0818 - acc: 0.8287\n",
      "Epoch 183/200\n",
      "251/251 [==============================] - 0s 456us/sample - loss: 0.0768 - acc: 0.8367\n",
      "Epoch 184/200\n",
      "251/251 [==============================] - 0s 445us/sample - loss: 0.0761 - acc: 0.8526\n",
      "Epoch 185/200\n",
      "251/251 [==============================] - 0s 478us/sample - loss: 0.0765 - acc: 0.8247\n",
      "Epoch 186/200\n",
      "251/251 [==============================] - 0s 495us/sample - loss: 0.0740 - acc: 0.8606\n",
      "Epoch 187/200\n",
      "251/251 [==============================] - 0s 496us/sample - loss: 0.0744 - acc: 0.8725\n",
      "Epoch 188/200\n",
      "251/251 [==============================] - 0s 483us/sample - loss: 0.0788 - acc: 0.8207\n",
      "Epoch 189/200\n",
      "251/251 [==============================] - 0s 501us/sample - loss: 0.0923 - acc: 0.7649\n",
      "Epoch 190/200\n",
      "251/251 [==============================] - 0s 519us/sample - loss: 0.0793 - acc: 0.8367\n",
      "Epoch 191/200\n",
      "251/251 [==============================] - 0s 488us/sample - loss: 0.0740 - acc: 0.8526\n",
      "Epoch 192/200\n",
      "251/251 [==============================] - 0s 465us/sample - loss: 0.0789 - acc: 0.8406\n",
      "Epoch 193/200\n",
      "251/251 [==============================] - 0s 494us/sample - loss: 0.0816 - acc: 0.8127\n",
      "Epoch 194/200\n",
      "251/251 [==============================] - 0s 517us/sample - loss: 0.0742 - acc: 0.8406\n",
      "Epoch 195/200\n",
      "251/251 [==============================] - 0s 509us/sample - loss: 0.0769 - acc: 0.8287\n",
      "Epoch 196/200\n",
      "251/251 [==============================] - 0s 493us/sample - loss: 0.0820 - acc: 0.8048\n",
      "Epoch 197/200\n",
      "251/251 [==============================] - 0s 494us/sample - loss: 0.0743 - acc: 0.8446\n",
      "Epoch 198/200\n",
      "251/251 [==============================] - 0s 496us/sample - loss: 0.0736 - acc: 0.8367\n",
      "Epoch 199/200\n",
      "251/251 [==============================] - 0s 476us/sample - loss: 0.0787 - acc: 0.8287\n",
      "Epoch 200/200\n",
      "251/251 [==============================] - 0s 474us/sample - loss: 0.0768 - acc: 0.8367\n"
     ]
    }
   ],
   "source": [
    "history = model.fit(train_x, train_y, epochs=200, batch_size=10, verbose=1)"
   ]
  },
  {
   "cell_type": "code",
   "execution_count": 32,
   "metadata": {},
   "outputs": [
    {
     "name": "stdout",
     "output_type": "stream",
     "text": [
      "63/63 [==============================] - 0s 2ms/sample - loss: 0.0972 - acc: 0.7937\n"
     ]
    },
    {
     "data": {
      "text/plain": [
       "[0.09715368101994197, 0.7936508]"
      ]
     },
     "execution_count": 32,
     "metadata": {},
     "output_type": "execute_result"
    }
   ],
   "source": [
    "model.evaluate(test_x, test_y)"
   ]
  },
  {
   "cell_type": "code",
   "execution_count": 31,
   "metadata": {},
   "outputs": [
    {
     "data": {
      "image/png": "[encoded data removed]",
      "text/plain": [
       "<Figure size 432x288 with 1 Axes>"
      ]
     },
     "metadata": {
      "needs_background": "light"
     },
     "output_type": "display_data"
    }
   ],
   "source": [
    "# Plot training & validation accuracy values\n",
    "plt.plot(history.history['acc'])\n",
    "plt.title('Model accuracy')\n",
    "plt.ylabel('Accuracy')\n",
    "plt.xlabel('Epoch')\n",
    "plt.legend(['Train'], loc='upper left')\n",
    "plt.show()"
   ]
  },
  {
   "cell_type": "code",
   "execution_count": 33,
   "metadata": {},
   "outputs": [
    {
     "data": {
      "text/plain": [
       "array([[0.09014371, 0.7600511 , 0.02487746, 0.07898857, 0.04593915]],\n",
       "      dtype=float32)"
      ]
     },
     "execution_count": 33,
     "metadata": {},
     "output_type": "execute_result"
    }
   ],
   "source": [
    "model.predict(test_x[10].reshape(1, 1, 270))"
   ]
  },
  {
   "cell_type": "code",
   "execution_count": 34,
   "metadata": {},
   "outputs": [],
   "source": [
    "model.save(\"gesture_lstm_v9.h5\")"
   ]
  },
  {
   "cell_type": "code",
   "execution_count": null,
   "metadata": {},
   "outputs": [],
   "source": []
  }
 ],
 "metadata": {
  "kernelspec": {
   "display_name": "Python 3",
   "language": "python",
   "name": "python3"
  },
  "language_info": {
   "codemirror_mode": {
    "name": "ipython",
    "version": 3
   },
   "file_extension": ".py",
   "mimetype": "text/x-python",
   "name": "python",
   "nbconvert_exporter": "python",
   "pygments_lexer": "ipython3",
   "version": "3.6.8"
  }
 },
 "nbformat": 4,
 "nbformat_minor": 2
}
