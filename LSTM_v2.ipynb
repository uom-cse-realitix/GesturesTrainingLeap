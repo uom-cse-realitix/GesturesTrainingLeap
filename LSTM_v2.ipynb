{
 "cells": [
  {
   "cell_type": "code",
   "execution_count": 1,
   "metadata": {},
   "outputs": [],
   "source": [
    "import numpy as np\n",
    "import matplotlib.pyplot as plt\n",
    "import pandas\n",
    "import math\n",
    "import tensorflow as tf\n",
    "from tensorflow.keras.models import Sequential\n",
    "from tensorflow.keras.layers import Dense\n",
    "from tensorflow.keras.layers import LSTM\n",
    "from tensorflow.keras.layers import Dropout\n",
    "from sklearn.preprocessing import MinMaxScaler\n",
    "from sklearn.metrics import mean_squared_error"
   ]
  },
  {
   "cell_type": "code",
   "execution_count": 2,
   "metadata": {},
   "outputs": [
    {
     "data": {
      "text/plain": [
       "((314, 270), (314, 5))"
      ]
     },
     "execution_count": 2,
     "metadata": {},
     "output_type": "execute_result"
    }
   ],
   "source": [
    "data_x = np.loadtxt('gesture_input_x_v11.csv', dtype=float)\n",
    "data_y = np.loadtxt('gesture_input_y_v11.csv', dtype=float)\n",
    "\n",
    "data_x.shape, data_y.shape"
   ]
  },
  {
   "cell_type": "code",
   "execution_count": 3,
   "metadata": {},
   "outputs": [],
   "source": [
    "# fix random seed for reproducibility\n",
    "np.random.seed(7)"
   ]
  },
  {
   "cell_type": "code",
   "execution_count": 4,
   "metadata": {},
   "outputs": [
    {
     "data": {
      "text/plain": [
       "(251, 63)"
      ]
     },
     "execution_count": 4,
     "metadata": {},
     "output_type": "execute_result"
    }
   ],
   "source": [
    "# split into train and test sets\n",
    "train_size = int(len(data_x) * 0.8)\n",
    "test_size = len(data_x) - train_size\n",
    "train_size, test_size"
   ]
  },
  {
   "cell_type": "code",
   "execution_count": 5,
   "metadata": {},
   "outputs": [],
   "source": [
    "train_x, test_x = data_x[0:train_size,:], data_x[train_size:,:]\n",
    "train_y, test_y = data_y[0:train_size,:], data_y[train_size:,:]"
   ]
  },
  {
   "cell_type": "code",
   "execution_count": 6,
   "metadata": {},
   "outputs": [
    {
     "data": {
      "text/plain": [
       "((251, 270), (251, 5), (63, 270), (63, 5))"
      ]
     },
     "execution_count": 6,
     "metadata": {},
     "output_type": "execute_result"
    }
   ],
   "source": [
    "train_x.shape, train_y.shape, test_x.shape, test_y.shape"
   ]
  },
  {
   "cell_type": "code",
   "execution_count": 7,
   "metadata": {},
   "outputs": [],
   "source": [
    "# reshape input to be [samples, time steps, features]\n",
    "train_x = np.reshape(train_x, (train_x.shape[0], 1, train_x.shape[1]))\n",
    "test_x = np.reshape(test_x, (test_x.shape[0], 1, test_x.shape[1]))"
   ]
  },
  {
   "cell_type": "code",
   "execution_count": 8,
   "metadata": {},
   "outputs": [
    {
     "name": "stdout",
     "output_type": "stream",
     "text": [
      "\n",
      "WARNING: The TensorFlow contrib module will not be included in TensorFlow 2.0.\n",
      "For more information, please see:\n",
      "  * https://github.com/tensorflow/community/blob/master/rfcs/20180907-contrib-sunset.md\n",
      "  * https://github.com/tensorflow/addons\n",
      "If you depend on functionality not listed there, please file an issue.\n",
      "\n"
     ]
    }
   ],
   "source": [
    "regularizer = tf.contrib.layers.l2_regularizer(scale=0.01)"
   ]
  },
  {
   "cell_type": "code",
   "execution_count": 9,
   "metadata": {},
   "outputs": [
    {
     "name": "stdout",
     "output_type": "stream",
     "text": [
      "WARNING:tensorflow:From /home/darshanakg/.conda/envs/tf_gpu/lib/python3.6/site-packages/tensorflow/python/ops/resource_variable_ops.py:435: colocate_with (from tensorflow.python.framework.ops) is deprecated and will be removed in a future version.\n",
      "Instructions for updating:\n",
      "Colocations handled automatically by placer.\n",
      "WARNING:tensorflow:From /home/darshanakg/.conda/envs/tf_gpu/lib/python3.6/site-packages/tensorflow/python/keras/utils/losses_utils.py:170: to_float (from tensorflow.python.ops.math_ops) is deprecated and will be removed in a future version.\n",
      "Instructions for updating:\n",
      "Use tf.cast instead.\n",
      "_________________________________________________________________\n",
      "Layer (type)                 Output Shape              Param #   \n",
      "=================================================================\n",
      "lstm (LSTM)                  (None, 270)               584280    \n",
      "_________________________________________________________________\n",
      "dense (Dense)                (None, 100)               27100     \n",
      "_________________________________________________________________\n",
      "dense_1 (Dense)              (None, 5)                 505       \n",
      "=================================================================\n",
      "Total params: 611,885\n",
      "Trainable params: 611,885\n",
      "Non-trainable params: 0\n",
      "_________________________________________________________________\n"
     ]
    }
   ],
   "source": [
    "# create and fit the LSTM network\n",
    "model = Sequential()\n",
    "model.add(LSTM(270, activation=tf.nn.tanh, kernel_regularizer=regularizer, input_shape=(1, 270)))\n",
    "model.add(Dense(100, activation=tf.nn.relu, kernel_regularizer=regularizer))\n",
    "model.add(Dense(5, activation=tf.nn.softmax))\n",
    "\n",
    "model.compile(loss='mean_squared_error', optimizer='adam', metrics=['accuracy'])\n",
    "\n",
    "model.summary()"
   ]
  },
  {
   "cell_type": "code",
   "execution_count": 10,
   "metadata": {},
   "outputs": [
    {
     "name": "stdout",
     "output_type": "stream",
     "text": [
      "WARNING:tensorflow:From /home/darshanakg/.conda/envs/tf_gpu/lib/python3.6/site-packages/tensorflow/python/ops/math_ops.py:3066: to_int32 (from tensorflow.python.ops.math_ops) is deprecated and will be removed in a future version.\n",
      "Instructions for updating:\n",
      "Use tf.cast instead.\n",
      "Epoch 1/200\n",
      "251/251 [==============================] - 1s 3ms/sample - loss: 2.0046 - acc: 0.3426\n",
      "Epoch 2/200\n",
      "251/251 [==============================] - 0s 405us/sample - loss: 0.7586 - acc: 0.3825\n",
      "Epoch 3/200\n",
      "251/251 [==============================] - 0s 417us/sample - loss: 0.3598 - acc: 0.3865\n",
      "Epoch 4/200\n",
      "251/251 [==============================] - 0s 419us/sample - loss: 0.2329 - acc: 0.3825\n",
      "Epoch 5/200\n",
      "251/251 [==============================] - 0s 417us/sample - loss: 0.1855 - acc: 0.3705\n",
      "Epoch 6/200\n",
      "251/251 [==============================] - 0s 466us/sample - loss: 0.1653 - acc: 0.4263\n",
      "Epoch 7/200\n",
      "251/251 [==============================] - 0s 480us/sample - loss: 0.1544 - acc: 0.4303\n",
      "Epoch 8/200\n",
      "251/251 [==============================] - 0s 501us/sample - loss: 0.1489 - acc: 0.5378\n",
      "Epoch 9/200\n",
      "251/251 [==============================] - 0s 505us/sample - loss: 0.1488 - acc: 0.4661\n",
      "Epoch 10/200\n",
      "251/251 [==============================] - 0s 490us/sample - loss: 0.1405 - acc: 0.5737\n",
      "Epoch 11/200\n",
      "251/251 [==============================] - 0s 478us/sample - loss: 0.1397 - acc: 0.5817\n",
      "Epoch 12/200\n",
      "251/251 [==============================] - 0s 483us/sample - loss: 0.1342 - acc: 0.5976\n",
      "Epoch 13/200\n",
      "251/251 [==============================] - 0s 501us/sample - loss: 0.1322 - acc: 0.5976\n",
      "Epoch 14/200\n",
      "251/251 [==============================] - 0s 493us/sample - loss: 0.1314 - acc: 0.6295\n",
      "Epoch 15/200\n",
      "251/251 [==============================] - 0s 492us/sample - loss: 0.1286 - acc: 0.6375\n",
      "Epoch 16/200\n",
      "251/251 [==============================] - 0s 479us/sample - loss: 0.1344 - acc: 0.6056\n",
      "Epoch 17/200\n",
      "251/251 [==============================] - 0s 491us/sample - loss: 0.1286 - acc: 0.6135\n",
      "Epoch 18/200\n",
      "251/251 [==============================] - 0s 482us/sample - loss: 0.1267 - acc: 0.6614\n",
      "Epoch 19/200\n",
      "251/251 [==============================] - 0s 448us/sample - loss: 0.1281 - acc: 0.6135\n",
      "Epoch 20/200\n",
      "251/251 [==============================] - 0s 499us/sample - loss: 0.1241 - acc: 0.6414\n",
      "Epoch 21/200\n",
      "251/251 [==============================] - 0s 480us/sample - loss: 0.1311 - acc: 0.5936\n",
      "Epoch 22/200\n",
      "251/251 [==============================] - 0s 484us/sample - loss: 0.1234 - acc: 0.6414\n",
      "Epoch 23/200\n",
      "251/251 [==============================] - 0s 472us/sample - loss: 0.1237 - acc: 0.6335\n",
      "Epoch 24/200\n",
      "251/251 [==============================] - 0s 532us/sample - loss: 0.1240 - acc: 0.6574\n",
      "Epoch 25/200\n",
      "251/251 [==============================] - 0s 450us/sample - loss: 0.1186 - acc: 0.6614\n",
      "Epoch 26/200\n",
      "251/251 [==============================] - 0s 421us/sample - loss: 0.1175 - acc: 0.6653\n",
      "Epoch 27/200\n",
      "251/251 [==============================] - 0s 419us/sample - loss: 0.1236 - acc: 0.6335\n",
      "Epoch 28/200\n",
      "251/251 [==============================] - 0s 416us/sample - loss: 0.1237 - acc: 0.6693\n",
      "Epoch 29/200\n",
      "251/251 [==============================] - 0s 458us/sample - loss: 0.1172 - acc: 0.6693\n",
      "Epoch 30/200\n",
      "251/251 [==============================] - 0s 458us/sample - loss: 0.1146 - acc: 0.6693\n",
      "Epoch 31/200\n",
      "251/251 [==============================] - 0s 432us/sample - loss: 0.1223 - acc: 0.6335\n",
      "Epoch 32/200\n",
      "251/251 [==============================] - 0s 414us/sample - loss: 0.1141 - acc: 0.6813\n",
      "Epoch 33/200\n",
      "251/251 [==============================] - 0s 429us/sample - loss: 0.1147 - acc: 0.6653\n",
      "Epoch 34/200\n",
      "251/251 [==============================] - 0s 418us/sample - loss: 0.1100 - acc: 0.7171\n",
      "Epoch 35/200\n",
      "251/251 [==============================] - 0s 499us/sample - loss: 0.1080 - acc: 0.7052\n",
      "Epoch 36/200\n",
      "251/251 [==============================] - 0s 457us/sample - loss: 0.1108 - acc: 0.7052\n",
      "Epoch 37/200\n",
      "251/251 [==============================] - 0s 496us/sample - loss: 0.1092 - acc: 0.6813\n",
      "Epoch 38/200\n",
      "251/251 [==============================] - 0s 545us/sample - loss: 0.1086 - acc: 0.7052\n",
      "Epoch 39/200\n",
      "251/251 [==============================] - 0s 426us/sample - loss: 0.1075 - acc: 0.7211\n",
      "Epoch 40/200\n",
      "251/251 [==============================] - 0s 456us/sample - loss: 0.1097 - acc: 0.6773\n",
      "Epoch 41/200\n",
      "251/251 [==============================] - 0s 471us/sample - loss: 0.1148 - acc: 0.6693\n",
      "Epoch 42/200\n",
      "251/251 [==============================] - 0s 496us/sample - loss: 0.1110 - acc: 0.7092\n",
      "Epoch 43/200\n",
      "251/251 [==============================] - 0s 471us/sample - loss: 0.1100 - acc: 0.7131\n",
      "Epoch 44/200\n",
      "251/251 [==============================] - 0s 429us/sample - loss: 0.1123 - acc: 0.6932\n",
      "Epoch 45/200\n",
      "251/251 [==============================] - 0s 438us/sample - loss: 0.1068 - acc: 0.7092\n",
      "Epoch 46/200\n",
      "251/251 [==============================] - 0s 467us/sample - loss: 0.1064 - acc: 0.7251\n",
      "Epoch 47/200\n",
      "251/251 [==============================] - 0s 453us/sample - loss: 0.1032 - acc: 0.6972\n",
      "Epoch 48/200\n",
      "251/251 [==============================] - 0s 505us/sample - loss: 0.1022 - acc: 0.7171\n",
      "Epoch 49/200\n",
      "251/251 [==============================] - 0s 462us/sample - loss: 0.1063 - acc: 0.7131\n",
      "Epoch 50/200\n",
      "251/251 [==============================] - 0s 497us/sample - loss: 0.1000 - acc: 0.7331\n",
      "Epoch 51/200\n",
      "251/251 [==============================] - 0s 475us/sample - loss: 0.1053 - acc: 0.7331\n",
      "Epoch 52/200\n",
      "251/251 [==============================] - 0s 409us/sample - loss: 0.1054 - acc: 0.7171\n",
      "Epoch 53/200\n",
      "251/251 [==============================] - 0s 415us/sample - loss: 0.1025 - acc: 0.7012\n",
      "Epoch 54/200\n",
      "251/251 [==============================] - 0s 424us/sample - loss: 0.1086 - acc: 0.7012\n",
      "Epoch 55/200\n",
      "251/251 [==============================] - 0s 422us/sample - loss: 0.1093 - acc: 0.7251\n",
      "Epoch 56/200\n",
      "251/251 [==============================] - 0s 416us/sample - loss: 0.1004 - acc: 0.7490\n",
      "Epoch 57/200\n",
      "251/251 [==============================] - 0s 418us/sample - loss: 0.1011 - acc: 0.7291\n",
      "Epoch 58/200\n",
      "251/251 [==============================] - 0s 427us/sample - loss: 0.0990 - acc: 0.7371\n",
      "Epoch 59/200\n",
      "251/251 [==============================] - 0s 448us/sample - loss: 0.0948 - acc: 0.7410\n",
      "Epoch 60/200\n",
      "251/251 [==============================] - 0s 427us/sample - loss: 0.1048 - acc: 0.7012\n",
      "Epoch 61/200\n",
      "251/251 [==============================] - 0s 517us/sample - loss: 0.0981 - acc: 0.7410\n",
      "Epoch 62/200\n",
      "251/251 [==============================] - 0s 494us/sample - loss: 0.0949 - acc: 0.7610\n",
      "Epoch 63/200\n",
      "251/251 [==============================] - 0s 448us/sample - loss: 0.0982 - acc: 0.7331\n",
      "Epoch 64/200\n",
      "251/251 [==============================] - 0s 450us/sample - loss: 0.1082 - acc: 0.7171\n",
      "Epoch 65/200\n",
      "251/251 [==============================] - 0s 450us/sample - loss: 0.0999 - acc: 0.7410\n",
      "Epoch 66/200\n",
      "251/251 [==============================] - 0s 450us/sample - loss: 0.0951 - acc: 0.7490\n",
      "Epoch 67/200\n",
      "251/251 [==============================] - 0s 431us/sample - loss: 0.0939 - acc: 0.7610\n",
      "Epoch 68/200\n",
      "251/251 [==============================] - 0s 418us/sample - loss: 0.1009 - acc: 0.7610\n",
      "Epoch 69/200\n",
      "251/251 [==============================] - 0s 454us/sample - loss: 0.1031 - acc: 0.7291\n",
      "Epoch 70/200\n",
      "251/251 [==============================] - 0s 463us/sample - loss: 0.0993 - acc: 0.7649\n",
      "Epoch 71/200\n",
      "251/251 [==============================] - 0s 457us/sample - loss: 0.1008 - acc: 0.7291\n",
      "Epoch 72/200\n",
      "251/251 [==============================] - 0s 479us/sample - loss: 0.0998 - acc: 0.7450\n",
      "Epoch 73/200\n",
      "251/251 [==============================] - 0s 449us/sample - loss: 0.0913 - acc: 0.7888\n",
      "Epoch 74/200\n",
      "251/251 [==============================] - 0s 462us/sample - loss: 0.0967 - acc: 0.7450\n",
      "Epoch 75/200\n",
      "251/251 [==============================] - 0s 483us/sample - loss: 0.0950 - acc: 0.7450\n",
      "Epoch 76/200\n",
      "251/251 [==============================] - 0s 512us/sample - loss: 0.0929 - acc: 0.7610\n",
      "Epoch 77/200\n",
      "251/251 [==============================] - 0s 457us/sample - loss: 0.0903 - acc: 0.7769\n",
      "Epoch 78/200\n",
      "251/251 [==============================] - 0s 464us/sample - loss: 0.0953 - acc: 0.7450\n",
      "Epoch 79/200\n"
     ]
    },
    {
     "name": "stdout",
     "output_type": "stream",
     "text": [
      "251/251 [==============================] - 0s 431us/sample - loss: 0.0938 - acc: 0.7450\n",
      "Epoch 80/200\n",
      "251/251 [==============================] - 0s 415us/sample - loss: 0.0958 - acc: 0.7530\n",
      "Epoch 81/200\n",
      "251/251 [==============================] - 0s 453us/sample - loss: 0.0951 - acc: 0.7570\n",
      "Epoch 82/200\n",
      "251/251 [==============================] - 0s 449us/sample - loss: 0.0930 - acc: 0.7729\n",
      "Epoch 83/200\n",
      "251/251 [==============================] - 0s 427us/sample - loss: 0.0942 - acc: 0.7490\n",
      "Epoch 84/200\n",
      "251/251 [==============================] - 0s 426us/sample - loss: 0.0886 - acc: 0.7888\n",
      "Epoch 85/200\n",
      "251/251 [==============================] - 0s 438us/sample - loss: 0.0928 - acc: 0.7610\n",
      "Epoch 86/200\n",
      "251/251 [==============================] - 0s 449us/sample - loss: 0.0916 - acc: 0.7888\n",
      "Epoch 87/200\n",
      "251/251 [==============================] - 0s 426us/sample - loss: 0.0912 - acc: 0.7849\n",
      "Epoch 88/200\n",
      "251/251 [==============================] - 0s 425us/sample - loss: 0.0902 - acc: 0.7888\n",
      "Epoch 89/200\n",
      "251/251 [==============================] - 0s 441us/sample - loss: 0.0967 - acc: 0.7610\n",
      "Epoch 90/200\n",
      "251/251 [==============================] - 0s 439us/sample - loss: 0.0947 - acc: 0.7769\n",
      "Epoch 91/200\n",
      "251/251 [==============================] - 0s 422us/sample - loss: 0.0921 - acc: 0.7729\n",
      "Epoch 92/200\n",
      "251/251 [==============================] - 0s 421us/sample - loss: 0.0930 - acc: 0.7769\n",
      "Epoch 93/200\n",
      "251/251 [==============================] - 0s 461us/sample - loss: 0.0916 - acc: 0.7769\n",
      "Epoch 94/200\n",
      "251/251 [==============================] - 0s 457us/sample - loss: 0.0897 - acc: 0.7769\n",
      "Epoch 95/200\n",
      "251/251 [==============================] - 0s 488us/sample - loss: 0.0933 - acc: 0.7729\n",
      "Epoch 96/200\n",
      "251/251 [==============================] - 0s 476us/sample - loss: 0.0907 - acc: 0.7649\n",
      "Epoch 97/200\n",
      "251/251 [==============================] - 0s 518us/sample - loss: 0.1000 - acc: 0.7450\n",
      "Epoch 98/200\n",
      "251/251 [==============================] - 0s 525us/sample - loss: 0.0932 - acc: 0.7769\n",
      "Epoch 99/200\n",
      "251/251 [==============================] - 0s 495us/sample - loss: 0.0880 - acc: 0.7968\n",
      "Epoch 100/200\n",
      "251/251 [==============================] - 0s 484us/sample - loss: 0.0883 - acc: 0.7928\n",
      "Epoch 101/200\n",
      "251/251 [==============================] - 0s 486us/sample - loss: 0.0972 - acc: 0.7450\n",
      "Epoch 102/200\n",
      "251/251 [==============================] - 0s 449us/sample - loss: 0.1078 - acc: 0.7570\n",
      "Epoch 103/200\n",
      "251/251 [==============================] - 0s 442us/sample - loss: 0.0980 - acc: 0.7729\n",
      "Epoch 104/200\n",
      "251/251 [==============================] - 0s 419us/sample - loss: 0.1053 - acc: 0.7530\n",
      "Epoch 105/200\n",
      "251/251 [==============================] - 0s 441us/sample - loss: 0.0947 - acc: 0.8008\n",
      "Epoch 106/200\n",
      "251/251 [==============================] - 0s 453us/sample - loss: 0.0899 - acc: 0.7888\n",
      "Epoch 107/200\n",
      "251/251 [==============================] - 0s 453us/sample - loss: 0.1051 - acc: 0.7291\n",
      "Epoch 108/200\n",
      "251/251 [==============================] - 0s 429us/sample - loss: 0.0878 - acc: 0.8048\n",
      "Epoch 109/200\n",
      "251/251 [==============================] - 0s 435us/sample - loss: 0.1124 - acc: 0.7331\n",
      "Epoch 110/200\n",
      "251/251 [==============================] - 0s 503us/sample - loss: 0.0921 - acc: 0.7888\n",
      "Epoch 111/200\n",
      "251/251 [==============================] - 0s 482us/sample - loss: 0.0910 - acc: 0.7769\n",
      "Epoch 112/200\n",
      "251/251 [==============================] - 0s 443us/sample - loss: 0.0881 - acc: 0.8008\n",
      "Epoch 113/200\n",
      "251/251 [==============================] - 0s 442us/sample - loss: 0.0859 - acc: 0.8088\n",
      "Epoch 114/200\n",
      "251/251 [==============================] - 0s 411us/sample - loss: 0.0839 - acc: 0.8287\n",
      "Epoch 115/200\n",
      "251/251 [==============================] - 0s 446us/sample - loss: 0.0975 - acc: 0.7251\n",
      "Epoch 116/200\n",
      "251/251 [==============================] - 0s 448us/sample - loss: 0.0984 - acc: 0.7729\n",
      "Epoch 117/200\n",
      "251/251 [==============================] - 0s 473us/sample - loss: 0.0876 - acc: 0.8048\n",
      "Epoch 118/200\n",
      "251/251 [==============================] - 0s 452us/sample - loss: 0.0872 - acc: 0.8008\n",
      "Epoch 119/200\n",
      "251/251 [==============================] - 0s 409us/sample - loss: 0.0847 - acc: 0.7968\n",
      "Epoch 120/200\n",
      "251/251 [==============================] - 0s 429us/sample - loss: 0.0857 - acc: 0.8127\n",
      "Epoch 121/200\n",
      "251/251 [==============================] - 0s 457us/sample - loss: 0.0900 - acc: 0.7888\n",
      "Epoch 122/200\n",
      "251/251 [==============================] - 0s 461us/sample - loss: 0.0850 - acc: 0.8167\n",
      "Epoch 123/200\n",
      "251/251 [==============================] - 0s 465us/sample - loss: 0.0835 - acc: 0.8127\n",
      "Epoch 124/200\n",
      "251/251 [==============================] - 0s 457us/sample - loss: 0.0829 - acc: 0.8247\n",
      "Epoch 125/200\n",
      "251/251 [==============================] - 0s 461us/sample - loss: 0.0844 - acc: 0.8367\n",
      "Epoch 126/200\n",
      "251/251 [==============================] - 0s 515us/sample - loss: 0.0990 - acc: 0.7530\n",
      "Epoch 127/200\n",
      "251/251 [==============================] - 0s 489us/sample - loss: 0.0873 - acc: 0.8127\n",
      "Epoch 128/200\n",
      "251/251 [==============================] - 0s 466us/sample - loss: 0.0910 - acc: 0.7769\n",
      "Epoch 129/200\n",
      "251/251 [==============================] - 0s 442us/sample - loss: 0.0912 - acc: 0.7968\n",
      "Epoch 130/200\n",
      "251/251 [==============================] - 0s 441us/sample - loss: 0.0894 - acc: 0.7809\n",
      "Epoch 131/200\n",
      "251/251 [==============================] - 0s 463us/sample - loss: 0.0873 - acc: 0.8088\n",
      "Epoch 132/200\n",
      "251/251 [==============================] - 0s 459us/sample - loss: 0.0815 - acc: 0.8088\n",
      "Epoch 133/200\n",
      "251/251 [==============================] - 0s 446us/sample - loss: 0.0902 - acc: 0.7809\n",
      "Epoch 134/200\n",
      "251/251 [==============================] - 0s 465us/sample - loss: 0.0995 - acc: 0.7689\n",
      "Epoch 135/200\n",
      "251/251 [==============================] - 0s 441us/sample - loss: 0.0856 - acc: 0.7928\n",
      "Epoch 136/200\n",
      "251/251 [==============================] - 0s 457us/sample - loss: 0.0836 - acc: 0.8127\n",
      "Epoch 137/200\n",
      "251/251 [==============================] - 0s 422us/sample - loss: 0.1043 - acc: 0.6813\n",
      "Epoch 138/200\n",
      "251/251 [==============================] - 0s 405us/sample - loss: 0.1005 - acc: 0.7490\n",
      "Epoch 139/200\n",
      "251/251 [==============================] - 0s 469us/sample - loss: 0.0903 - acc: 0.7888\n",
      "Epoch 140/200\n",
      "251/251 [==============================] - 0s 488us/sample - loss: 0.0866 - acc: 0.7928\n",
      "Epoch 141/200\n",
      "251/251 [==============================] - 0s 431us/sample - loss: 0.0841 - acc: 0.8008\n",
      "Epoch 142/200\n",
      "251/251 [==============================] - 0s 453us/sample - loss: 0.0831 - acc: 0.8088\n",
      "Epoch 143/200\n",
      "251/251 [==============================] - 0s 433us/sample - loss: 0.0800 - acc: 0.8367\n",
      "Epoch 144/200\n",
      "251/251 [==============================] - 0s 425us/sample - loss: 0.0798 - acc: 0.8167\n",
      "Epoch 145/200\n",
      "251/251 [==============================] - 0s 462us/sample - loss: 0.0790 - acc: 0.8406\n",
      "Epoch 146/200\n",
      "251/251 [==============================] - 0s 473us/sample - loss: 0.0856 - acc: 0.7849\n",
      "Epoch 147/200\n",
      "251/251 [==============================] - 0s 422us/sample - loss: 0.0824 - acc: 0.8008\n",
      "Epoch 148/200\n",
      "251/251 [==============================] - 0s 419us/sample - loss: 0.0860 - acc: 0.7968\n",
      "Epoch 149/200\n",
      "251/251 [==============================] - 0s 435us/sample - loss: 0.0850 - acc: 0.8048\n",
      "Epoch 150/200\n",
      "251/251 [==============================] - 0s 425us/sample - loss: 0.0833 - acc: 0.8048\n",
      "Epoch 151/200\n",
      "251/251 [==============================] - 0s 427us/sample - loss: 0.0810 - acc: 0.8287\n",
      "Epoch 152/200\n",
      "251/251 [==============================] - 0s 438us/sample - loss: 0.0856 - acc: 0.7928\n",
      "Epoch 153/200\n",
      "251/251 [==============================] - 0s 426us/sample - loss: 0.0822 - acc: 0.8207\n",
      "Epoch 154/200\n",
      "251/251 [==============================] - 0s 417us/sample - loss: 0.0855 - acc: 0.7968\n",
      "Epoch 155/200\n",
      "251/251 [==============================] - 0s 403us/sample - loss: 0.0890 - acc: 0.7968\n",
      "Epoch 156/200\n",
      "251/251 [==============================] - 0s 414us/sample - loss: 0.0897 - acc: 0.8008\n",
      "Epoch 157/200\n",
      "251/251 [==============================] - 0s 439us/sample - loss: 0.0854 - acc: 0.8167\n",
      "Epoch 158/200\n",
      "251/251 [==============================] - 0s 415us/sample - loss: 0.0839 - acc: 0.8167\n",
      "Epoch 159/200\n"
     ]
    },
    {
     "name": "stdout",
     "output_type": "stream",
     "text": [
      "251/251 [==============================] - 0s 442us/sample - loss: 0.0781 - acc: 0.8247\n",
      "Epoch 160/200\n",
      "251/251 [==============================] - 0s 427us/sample - loss: 0.0894 - acc: 0.7649\n",
      "Epoch 161/200\n",
      "251/251 [==============================] - 0s 410us/sample - loss: 0.0823 - acc: 0.8167\n",
      "Epoch 162/200\n",
      "251/251 [==============================] - 0s 413us/sample - loss: 0.0849 - acc: 0.8167\n",
      "Epoch 163/200\n",
      "251/251 [==============================] - 0s 412us/sample - loss: 0.0830 - acc: 0.8207\n",
      "Epoch 164/200\n",
      "251/251 [==============================] - 0s 413us/sample - loss: 0.0839 - acc: 0.8327\n",
      "Epoch 165/200\n",
      "251/251 [==============================] - 0s 400us/sample - loss: 0.0790 - acc: 0.8367\n",
      "Epoch 166/200\n",
      "251/251 [==============================] - 0s 412us/sample - loss: 0.0774 - acc: 0.8446\n",
      "Epoch 167/200\n",
      "251/251 [==============================] - 0s 412us/sample - loss: 0.1087 - acc: 0.6972\n",
      "Epoch 168/200\n",
      "251/251 [==============================] - 0s 414us/sample - loss: 0.0889 - acc: 0.8167\n",
      "Epoch 169/200\n",
      "251/251 [==============================] - 0s 421us/sample - loss: 0.0832 - acc: 0.8088\n",
      "Epoch 170/200\n",
      "251/251 [==============================] - 0s 419us/sample - loss: 0.0800 - acc: 0.8207\n",
      "Epoch 171/200\n",
      "251/251 [==============================] - 0s 414us/sample - loss: 0.0807 - acc: 0.8367\n",
      "Epoch 172/200\n",
      "251/251 [==============================] - 0s 415us/sample - loss: 0.0801 - acc: 0.8247\n",
      "Epoch 173/200\n",
      "251/251 [==============================] - 0s 417us/sample - loss: 0.0800 - acc: 0.8287\n",
      "Epoch 174/200\n",
      "251/251 [==============================] - 0s 416us/sample - loss: 0.0817 - acc: 0.8167\n",
      "Epoch 175/200\n",
      "251/251 [==============================] - 0s 424us/sample - loss: 0.0978 - acc: 0.7570\n",
      "Epoch 176/200\n",
      "251/251 [==============================] - 0s 416us/sample - loss: 0.0914 - acc: 0.8008\n",
      "Epoch 177/200\n",
      "251/251 [==============================] - 0s 422us/sample - loss: 0.0831 - acc: 0.8207\n",
      "Epoch 178/200\n",
      "251/251 [==============================] - 0s 422us/sample - loss: 0.0813 - acc: 0.8327\n",
      "Epoch 179/200\n",
      "251/251 [==============================] - 0s 415us/sample - loss: 0.0797 - acc: 0.8247\n",
      "Epoch 180/200\n",
      "251/251 [==============================] - 0s 423us/sample - loss: 0.0795 - acc: 0.8367\n",
      "Epoch 181/200\n",
      "251/251 [==============================] - 0s 409us/sample - loss: 0.0796 - acc: 0.8367\n",
      "Epoch 182/200\n",
      "251/251 [==============================] - 0s 415us/sample - loss: 0.0759 - acc: 0.8486\n",
      "Epoch 183/200\n",
      "251/251 [==============================] - 0s 413us/sample - loss: 0.0787 - acc: 0.8127\n",
      "Epoch 184/200\n",
      "251/251 [==============================] - 0s 401us/sample - loss: 0.0752 - acc: 0.8486\n",
      "Epoch 185/200\n",
      "251/251 [==============================] - 0s 411us/sample - loss: 0.0742 - acc: 0.8526\n",
      "Epoch 186/200\n",
      "251/251 [==============================] - 0s 401us/sample - loss: 0.0789 - acc: 0.8207\n",
      "Epoch 187/200\n",
      "251/251 [==============================] - 0s 409us/sample - loss: 0.0751 - acc: 0.8247\n",
      "Epoch 188/200\n",
      "251/251 [==============================] - 0s 402us/sample - loss: 0.0757 - acc: 0.8367\n",
      "Epoch 189/200\n",
      "251/251 [==============================] - 0s 403us/sample - loss: 0.0870 - acc: 0.7769\n",
      "Epoch 190/200\n",
      "251/251 [==============================] - 0s 408us/sample - loss: 0.0789 - acc: 0.8406\n",
      "Epoch 191/200\n",
      "251/251 [==============================] - 0s 417us/sample - loss: 0.0789 - acc: 0.8247\n",
      "Epoch 192/200\n",
      "251/251 [==============================] - 0s 411us/sample - loss: 0.0845 - acc: 0.7968\n",
      "Epoch 193/200\n",
      "251/251 [==============================] - 0s 411us/sample - loss: 0.0760 - acc: 0.8367\n",
      "Epoch 194/200\n",
      "251/251 [==============================] - 0s 412us/sample - loss: 0.0768 - acc: 0.8247\n",
      "Epoch 195/200\n",
      "251/251 [==============================] - 0s 400us/sample - loss: 0.0781 - acc: 0.8287\n",
      "Epoch 196/200\n",
      "251/251 [==============================] - 0s 410us/sample - loss: 0.0800 - acc: 0.8008\n",
      "Epoch 197/200\n",
      "251/251 [==============================] - 0s 408us/sample - loss: 0.0886 - acc: 0.8088\n",
      "Epoch 198/200\n",
      "251/251 [==============================] - 0s 416us/sample - loss: 0.0838 - acc: 0.8247\n",
      "Epoch 199/200\n",
      "251/251 [==============================] - 0s 406us/sample - loss: 0.0746 - acc: 0.8526\n",
      "Epoch 200/200\n",
      "251/251 [==============================] - 0s 407us/sample - loss: 0.0740 - acc: 0.8367\n"
     ]
    }
   ],
   "source": [
    "history = model.fit(train_x, train_y, epochs=200, batch_size=10, verbose=1)"
   ]
  },
  {
   "cell_type": "code",
   "execution_count": 11,
   "metadata": {},
   "outputs": [
    {
     "name": "stdout",
     "output_type": "stream",
     "text": [
      "63/63 [==============================] - 0s 1ms/sample - loss: 0.0910 - acc: 0.7937\n"
     ]
    },
    {
     "data": {
      "text/plain": [
       "[0.09099126689963871, 0.7936508]"
      ]
     },
     "execution_count": 11,
     "metadata": {},
     "output_type": "execute_result"
    }
   ],
   "source": [
    "model.evaluate(test_x, test_y)"
   ]
  },
  {
   "cell_type": "code",
   "execution_count": 12,
   "metadata": {},
   "outputs": [
    {
     "data": {
      "image/png": "[encoded data removed]",
      "text/plain": [
       "<Figure size 432x288 with 1 Axes>"
      ]
     },
     "metadata": {
      "needs_background": "light"
     },
     "output_type": "display_data"
    }
   ],
   "source": [
    "# Plot training & validation accuracy values\n",
    "plt.plot(history.history['acc'])\n",
    "plt.title('Model accuracy')\n",
    "plt.ylabel('Accuracy')\n",
    "plt.xlabel('Epoch')\n",
    "plt.legend(['Train'], loc='upper left')\n",
    "plt.show()"
   ]
  },
  {
   "cell_type": "code",
   "execution_count": 13,
   "metadata": {},
   "outputs": [
    {
     "data": {
      "text/plain": [
       "array([[0.07232401, 0.805886  , 0.02867882, 0.05921362, 0.03389756]],\n",
       "      dtype=float32)"
      ]
     },
     "execution_count": 13,
     "metadata": {},
     "output_type": "execute_result"
    }
   ],
   "source": [
    "model.predict(test_x[10].reshape(1, 1, 270))"
   ]
  },
  {
   "cell_type": "code",
   "execution_count": 14,
   "metadata": {},
   "outputs": [],
   "source": [
    "model.save(\"gesture_lstm_v10.h5\")"
   ]
  }
 ],
 "metadata": {
  "kernelspec": {
   "display_name": "Python 3",
   "language": "python",
   "name": "python3"
  },
  "language_info": {
   "codemirror_mode": {
    "name": "ipython",
    "version": 3
   },
   "file_extension": ".py",
   "mimetype": "text/x-python",
   "name": "python",
   "nbconvert_exporter": "python",
   "pygments_lexer": "ipython3",
   "version": "3.6.8"
  }
 },
 "nbformat": 4,
 "nbformat_minor": 2
}
